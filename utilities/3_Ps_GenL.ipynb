{
 "cells": [
  {
   "cell_type": "markdown",
   "id": "8dd34601",
   "metadata": {},
   "source": [
    "Copyright (c) 2021 Mitsuru Ohno  \n",
    "Use of this source code is governed by a BSD-3-style  \n",
    "license that can be found in the LICENSE file.  \n",
    "  \n",
    "08/11/2021, M. Ohno  \n",
    "polymer and polymerization list.    \n",
    "\n",
    "Refernce:  \n",
    "https://www.daylight.com/dayhtml_tutorials/languages/smarts/smarts_examples.html\n",
    "https://www.daylight.com/dayhtml/doc/theory/theory.smarts.html  "
   ]
  },
  {
   "cell_type": "code",
   "execution_count": null,
   "id": "df5482df",
   "metadata": {},
   "outputs": [],
   "source": [
    "import json\n",
    "import pickle"
   ]
  },
  {
   "cell_type": "code",
   "execution_count": null,
   "id": "a4fda4cd",
   "metadata": {},
   "outputs": [],
   "source": [
    "with open('./rules/mon_dic.json', 'r') as f:\n",
    "    mon_dic = json.load(f)"
   ]
  },
  {
   "cell_type": "code",
   "execution_count": null,
   "id": "26ad4d4a",
   "metadata": {},
   "outputs": [],
   "source": [
    "with open('./rules/ps_rxn.pkl', 'rb') as f:\n",
    "    Ps_rxnL = pickle.load(f)"
   ]
  },
  {
   "cell_type": "code",
   "execution_count": null,
   "id": "6a015641",
   "metadata": {},
   "outputs": [],
   "source": [
    "#values in dictionary based on the class of PoLyInfo\n",
    "Ps_classL = {'polyolefin':11, 'polyester':6, 'polyether':12, 'polyamide':2, 'polyimide':8, 'polyurethane':19, \n",
    "            'polyoxazolidone':23, }"
   ]
  },
  {
   "cell_type": "code",
   "execution_count": null,
   "id": "867ff451",
   "metadata": {},
   "outputs": [],
   "source": [
    "Ps_GenL = {}"
   ]
  },
  {
   "cell_type": "code",
   "execution_count": null,
   "id": "15db3d51",
   "metadata": {},
   "outputs": [],
   "source": [
    "Ps_GenL['polyolefin'] = (('vinyl', 'none', Ps_rxnL[mon_dic['vinyl']]), ('cOle', 'none', Ps_rxnL[mon_dic['cOle']]), \n",
    "                         ('vinyl', 'vinyl', Ps_rxnL[101]),  ('vinyl', 'cOle', Ps_rxnL[102]), )"
   ]
  },
  {
   "cell_type": "code",
   "execution_count": null,
   "id": "67ebd1b9",
   "metadata": {},
   "outputs": [],
   "source": [
    "Ps_GenL['polyester'] = (('hydCOOH', 'none', Ps_rxnL[mon_dic['hydCOOH']]), ('lactone', 'none', Ps_rxnL[mon_dic['lactone']]), \n",
    "                      ('hydCOOH', 'hydCOOH', Ps_rxnL[105]), ('diol', 'CO', Ps_rxnL[106]), \n",
    "                      ('diCOOH', 'diol', Ps_rxnL[104]), ('cAnhyd', 'epo', Ps_rxnL[112]), )"
   ]
  },
  {
   "cell_type": "code",
   "execution_count": null,
   "id": "7160c30f",
   "metadata": {},
   "outputs": [],
   "source": [
    "Ps_GenL['polyether'] = (('epo', 'none', Ps_rxnL[mon_dic['epo']]), ('hindPhenol', 'none', Ps_rxnL[mon_dic['hindPhenol']]), \n",
    "                       ('sfonediX', 'diol_b', Ps_rxnL[114]), ('BzodiF', 'diol_b', Ps_rxnL[115]), )"
   ]
  },
  {
   "cell_type": "code",
   "execution_count": null,
   "id": "7d174411",
   "metadata": {},
   "outputs": [],
   "source": [
    "Ps_GenL['polyamide'] = (('lactam', 'none', Ps_rxnL[mon_dic['lactam']]), ('aminCOOH', 'none', Ps_rxnL[mon_dic['aminCOOH']]), \n",
    "                     ('diCOOH', 'diamin', Ps_rxnL[108]), ('aminCOOH', 'aminCOOH', Ps_rxnL[109]),)"
   ]
  },
  {
   "cell_type": "code",
   "execution_count": null,
   "id": "2b53bc9e",
   "metadata": {},
   "outputs": [],
   "source": [
    "Ps_GenL['polyimide'] = (('dicAnhyd', 'diamin', Ps_rxnL[110]), )"
   ]
  },
  {
   "cell_type": "code",
   "execution_count": null,
   "id": "9d8f93c1",
   "metadata": {},
   "outputs": [],
   "source": [
    "Ps_GenL['polyurethane'] = (('diNCO', 'diol', Ps_rxnL[111]), )"
   ]
  },
  {
   "cell_type": "code",
   "execution_count": null,
   "id": "c8660bc3",
   "metadata": {},
   "outputs": [],
   "source": [
    "Ps_GenL['polyoxazolidone'] = (('diepo', 'diNCO', Ps_rxnL[113]), )"
   ]
  },
  {
   "cell_type": "code",
   "execution_count": null,
   "id": "d1eec9a5",
   "metadata": {},
   "outputs": [],
   "source": [
    "with open(\"./rules/ps_class.json\",\"w\") as f:\n",
    "    json.dump(Ps_classL, f)"
   ]
  },
  {
   "cell_type": "code",
   "execution_count": null,
   "id": "734df890",
   "metadata": {},
   "outputs": [],
   "source": [
    "with open(\"./rules/ps_gen.pkl\",\"wb\") as f:\n",
    "    pickle.dump(Ps_GenL, f)"
   ]
  },
  {
   "cell_type": "code",
   "execution_count": null,
   "id": "9a2d7d17",
   "metadata": {},
   "outputs": [],
   "source": []
  }
 ],
 "metadata": {
  "kernelspec": {
   "display_name": "Python 3 (ipykernel)",
   "language": "python",
   "name": "python3"
  },
  "language_info": {
   "codemirror_mode": {
    "name": "ipython",
    "version": 3
   },
   "file_extension": ".py",
   "mimetype": "text/x-python",
   "name": "python",
   "nbconvert_exporter": "python",
   "pygments_lexer": "ipython3",
   "version": "3.7.11"
  }
 },
 "nbformat": 4,
 "nbformat_minor": 5
}
