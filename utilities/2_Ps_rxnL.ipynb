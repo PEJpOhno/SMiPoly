{
 "cells": [
  {
   "cell_type": "markdown",
   "id": "5957bfb5",
   "metadata": {},
   "source": [
    "Copyright (c) 2021 Mitsuru Ohno  \n",
    "Use of this source code is governed by a BSD-3-style  \n",
    "license that can be found in the LICENSE file.  \n",
    "  \n",
    "08/09/2021, M. Ohno  \n",
    "tool for defined list of polymerizarion reaction.    \n",
    "\n",
    "Refernce:  \n",
    "https://future-chem.com/rdkit-chemical-rxn/\n",
    "https://www.daylight.com/dayhtml_tutorials/languages/smarts/smarts_examples.html\n",
    "https://www.daylight.com/dayhtml/doc/theory/theory.smarts.html  \n",
    "https://www.daylight.com/dayhtml/doc/theory/index.pdf  "
   ]
  },
  {
   "cell_type": "code",
   "execution_count": null,
   "id": "b8e9c5ca",
   "metadata": {},
   "outputs": [],
   "source": [
    "import json\n",
    "import pickle\n",
    "from rdkit.Chem import AllChem, PandasTools"
   ]
  },
  {
   "cell_type": "code",
   "execution_count": null,
   "id": "cdc2aa37",
   "metadata": {},
   "outputs": [],
   "source": [
    "with open('./rules/mon_dic.json', 'r') as f:\n",
    "    mon_dic = json.load(f)"
   ]
  },
  {
   "cell_type": "markdown",
   "id": "b8c17330",
   "metadata": {},
   "source": [
    "for single monomer system; value 1- 49  \n",
    "for binary monomer system; value 101 - 199  \n",
    "for sequential reaction; value 201 -  "
   ]
  },
  {
   "cell_type": "code",
   "execution_count": null,
   "id": "bdbcc0c7",
   "metadata": {},
   "outputs": [],
   "source": [
    "Ps_rxnL = {}"
   ]
  },
  {
   "cell_type": "code",
   "execution_count": null,
   "id": "62a6aafb",
   "metadata": {},
   "outputs": [],
   "source": [
    "#vinyl homopolyrization  \n",
    "n= mon_dic['vinyl']\n",
    "vinyl_homo = '[CX3;H2,H1,H0:1]=[C;H2,H1,H0:2]>>*-[C:1][C:2]-*'\n",
    "Ps_rxnL[n] = AllChem.ReactionFromSmarts(vinyl_homo)"
   ]
  },
  {
   "cell_type": "code",
   "execution_count": null,
   "id": "0dd02cbf",
   "metadata": {},
   "outputs": [],
   "source": [
    "#epoxide homopolyrization (ROP)  \n",
    "n= mon_dic['epo']\n",
    "epo_homo = '[CX4;H2,H1,H0;R:1]1[O;R][C;R:2]1>>*-[CX4:1][CX4:2][O]-*'\n",
    "Ps_rxnL[n] = AllChem.ReactionFromSmarts(epo_homo)"
   ]
  },
  {
   "cell_type": "code",
   "execution_count": null,
   "id": "86703b67",
   "metadata": {},
   "outputs": [],
   "source": [
    "#cyclic ofefin homopolyrization  \n",
    "n= mon_dic['cOle']\n",
    "cOle_homo = '[CX3;R:1]=[CX3;R:2]>>*-[CX4;R:1][CX4;R:2]-*'\n",
    "Ps_rxnL[n] = AllChem.ReactionFromSmarts(cOle_homo)"
   ]
  },
  {
   "cell_type": "code",
   "execution_count": null,
   "id": "11d6daf0",
   "metadata": {},
   "outputs": [],
   "source": [
    "#lactone ROP  \n",
    "n= mon_dic['lactone']\n",
    "lactone_homo = '[CX3;R:1](=[OX1])[OX2;R:2]>>(*-[CX3:1](=[OX1]).[OX2:2]-*)'\n",
    "Ps_rxnL[n] = AllChem.ReactionFromSmarts(lactone_homo)"
   ]
  },
  {
   "cell_type": "code",
   "execution_count": null,
   "id": "a6c73d55",
   "metadata": {},
   "outputs": [],
   "source": [
    "#lactam ROP  \n",
    "n= mon_dic['lactam']\n",
    "lactam_homo = '[CX3;R:1](=[OX1])[NX3;R:2]>>(*-[CX3:1](=[OX1]).[NX3:2]-*)'\n",
    "Ps_rxnL[n] = AllChem.ReactionFromSmarts(lactam_homo)"
   ]
  },
  {
   "cell_type": "code",
   "execution_count": null,
   "id": "7c857bfb",
   "metadata": {},
   "outputs": [],
   "source": [
    "#hydroxy carboxylic acid self condensation  \n",
    "n= mon_dic['hydCOOH']\n",
    "hydCOOH_homo = '([OX2H1;!$(OC=*):1].[CX3:2](=[O])[OX2H1])>>(*-[OX2:1].[CX3:2](=[O])-*)'\n",
    "Ps_rxnL[n] = AllChem.ReactionFromSmarts(hydCOOH_homo)"
   ]
  },
  {
   "cell_type": "code",
   "execution_count": null,
   "id": "7866f94a",
   "metadata": {},
   "outputs": [],
   "source": [
    "#amino carboxylic acid self condensation  \n",
    "n= mon_dic['aminCOOH']\n",
    "aminCOOH_homo = '([NX3;H2,H1;!$(OC=*):1].[CX3:2](=[O])[OX2H1])>>(*-[NX3:1].[CX3:2](=[O])-*)'\n",
    "Ps_rxnL[n] = AllChem.ReactionFromSmarts(aminCOOH_homo)"
   ]
  },
  {
   "cell_type": "code",
   "execution_count": null,
   "id": "d9d453d8",
   "metadata": {},
   "outputs": [],
   "source": [
    "#hindered phenol oxidative polymerization  \n",
    "n= mon_dic['hindPhenol']\n",
    "hindPhenol_homo = '[c]1([OH1:1])[c:2][c:3][c;H1:4][c:5][c:6]1>>[c]1([OX2:1]-[*])[c:2][c:3][c:4](-*)[c:5][c:6]1'\n",
    "Ps_rxnL[n] = AllChem.ReactionFromSmarts(hindPhenol_homo)"
   ]
  },
  {
   "cell_type": "code",
   "execution_count": null,
   "id": "1f2f75ee",
   "metadata": {},
   "outputs": [],
   "source": [
    "#polyolefine:co-vinyl \n",
    "vinyl_cross = '[CX3;H2,H1,H0;!R:1]=[CX3;H2,H1,H0;!R:2].[CX3;H2,H1,H0;!R:3]=[CX3;H2,H1,H0;!R:4]>>*-[CX4:1][CX4:2][CX4:3][CX4:4]-*'\n",
    "Ps_rxnL[101] = AllChem.ReactionFromSmarts(vinyl_cross)"
   ]
  },
  {
   "cell_type": "code",
   "execution_count": null,
   "id": "272d2bcb",
   "metadata": {},
   "outputs": [],
   "source": [
    "#polyolefine:vinyl-cOle \n",
    "VcO = '[CX3;H2,H1,H0;!R:1]=[CX3;H2,H1,H0;!R:2].[CX3;H1,H0;R:3]=[CX3;H1,H0;R:4]>>*-[CX4:1][CX4:2][CX4:3][CX4:4]-*'\n",
    "Ps_rxnL[102] = AllChem.ReactionFromSmarts(VcO)"
   ]
  },
  {
   "cell_type": "code",
   "execution_count": null,
   "id": "32892dd5",
   "metadata": {},
   "outputs": [],
   "source": [
    "#polyolefine:co-cOle \n",
    "cO_cross = '[CX3;H1,H0;R:1]=[CX3;H1,H0;R:2].[CX3;H1,H0;R:3]=[CX3;R:4]>>*-[CX4:1][CX4:2][CX4:3][CX4:4]-*'\n",
    "Ps_rxnL[103] = AllChem.ReactionFromSmarts(cO_cross)"
   ]
  },
  {
   "cell_type": "code",
   "execution_count": null,
   "id": "2b5c7bac",
   "metadata": {},
   "outputs": [],
   "source": [
    "#polyester:diCOOH+diOH\n",
    "dehydest = '([CX3:1](=[O])[OX2H1,Cl,Br].[CX3:2](=[O])[OX2H1,Cl,Br]).([O,S;X2;H1;!$([O,S]C=*):3].[O,S;X2;H1;!$([O,S]C=*):4])>>(*-[CX3:1](=[O]).[CX3:2](=[O])-[O,S;X2;!$([O,S]C=*):3].[O,S;X2;!$([O,S]C=*):4]-*)'\n",
    "Ps_rxnL[104] = AllChem.ReactionFromSmarts(dehydest)"
   ]
  },
  {
   "cell_type": "code",
   "execution_count": null,
   "id": "15c51288",
   "metadata": {},
   "outputs": [],
   "source": [
    "#polyester:co-hydroxy carboxylic acid condensation  \n",
    "cohydCOOH = '([OX2H1;!$(OC=*):1].[CX3:2](=[O])[OX2H1]).([OX2H1;!$(OC=*):3].[CX3:4](=[O])[OX2H1])>>(*-[OX2:1].[CX3:2](=[O])[OX2:3].[CX3:4](=[O])-*)'\n",
    "Ps_rxnL[105] = AllChem.ReactionFromSmarts(cohydCOOH)"
   ]
  },
  {
   "cell_type": "code",
   "execution_count": null,
   "id": "3be0e2ef",
   "metadata": {},
   "outputs": [],
   "source": [
    "#polycarbonate\n",
    "PC = '([O,S;X2;H1;!$([O,S]C=*):1].[O,S;X2;H1;!$([O,S]C=*):2]).[C-]#[O+]>>(*-[O,S;X2;!$([O,S]C=*):1].[O,S;X2;!$([O,S]C=*):2][CX3](=[O])-*)'\n",
    "Ps_rxnL[106] = AllChem.ReactionFromSmarts(PC)"
   ]
  },
  {
   "cell_type": "code",
   "execution_count": null,
   "id": "706e2df7",
   "metadata": {},
   "outputs": [],
   "source": [
    "#polyester:cyclic anhydride+epo\n",
    "anhydepo = '[C,c;R:1][CX3,c;R](=[OX1])[OX2,o;R][CX3,c;R](=[OX1])[C,c;R:2].[CX4;R:3]1[OX2;R:4][CX4;R:5]1>>([C,c:1][CX3](=[OX1])(-*).[C,c:2][CX3](=[OX1])[OX2][CX4:3][CX4:5][OX2:4]-*)'\n",
    "Ps_rxnL[112] = AllChem.ReactionFromSmarts(anhydepo)"
   ]
  },
  {
   "cell_type": "code",
   "execution_count": null,
   "id": "f46643e6",
   "metadata": {},
   "outputs": [],
   "source": [
    "#polyamide:diCOOH+diamin\n",
    "dehydamid = '([CX3:1](=[O])[OX2H1,Cl,Br].[CX3:2](=[O])[OX2H1,Cl,Br]).([N&X3;H2,H1;!$(NC=*):3].[N&X3;H2,H1;!$(NC=*):4])>>(*-[CX3:1](=[O]).[CX3:2](=[O])-[NX3;!$(NC=*):3].[NX3;!$(NC=*):4]-*)'\n",
    "Ps_rxnL[108] = AllChem.ReactionFromSmarts(dehydamid)"
   ]
  },
  {
   "cell_type": "code",
   "execution_count": null,
   "id": "d5b103c7",
   "metadata": {},
   "outputs": [],
   "source": [
    "#polyamide:co-amino acid condensation  \n",
    "coaminCOOH = '([N&X3;H2,H1;!$(NC=*):1].[CX3:2](=[O])[OX2H1]).([N&X3;H2,H1;!$(NC=*):3].[CX3:4](=[O])[OX2H1])>>(*-[NX3;!$(NC=*):1].[CX3:2](=[O])[NX3;!$(NC=*):3].[CX3:4](=[O])-*)'\n",
    "Ps_rxnL[109] = AllChem.ReactionFromSmarts(coaminCOOH)"
   ]
  },
  {
   "cell_type": "code",
   "execution_count": null,
   "id": "4d7cd49e",
   "metadata": {},
   "outputs": [],
   "source": [
    "#polyimide:cyclic anhydride+primary diamine\n",
    "PI = '([CX3,c;R:1](=[OX1])[OX2,o;R][CX3,c;R:2](=[OX1]).[CX3,c;R:3](=[OX1])[OX2,o;R][CX3,c;R:4](=[OX1])).([C,c:5][NX3;H2;!$(N[C,S]=*)].[C,c:6][NX3;H2;!$(N[C,S]=*)])>>([CX3,c;R:1](=[OX1])[NX3;R]([C,c:5].[C,c:6]-*)[CX3,c;R:2](=[OX1]).[CX3,c;R:3](=[OX1])[NX3;R](-*)[CX3;R:4](=[OX1]))'\n",
    "Ps_rxnL[110] = AllChem.ReactionFromSmarts(PI)"
   ]
  },
  {
   "cell_type": "code",
   "execution_count": null,
   "id": "c1bda9c4",
   "metadata": {},
   "outputs": [],
   "source": [
    "#polyurethane:diisocyanate+diOH\n",
    "PU = '([NX2:1]=[CX2]=[OX1,SX1:2].[NX2:3]=[CX2:4]=[OX1,SX1:5]).([OX2,SX2;H1;!$([O,S]C=*):6].[OX2,SX2;H1;!$([O,S]C=*):7])>>(*-[CX3](=[OX1,SX1:2])[NX3:1].[NX3:3][CX3:4](=[OX1,SX1:5])[OX2,SX2;!$([O,S]C=*):6].[OX2,SX2;!$([O,S]C=*):7]-*)'\n",
    "Ps_rxnL[111] = AllChem.ReactionFromSmarts(PU)"
   ]
  },
  {
   "cell_type": "code",
   "execution_count": null,
   "id": "a9473c8b",
   "metadata": {},
   "outputs": [],
   "source": [
    "#poly-oxazolidone; diepo+diNCO\n",
    "pox = '([CX4;H2,H1,H0;R:1]1[OX2;R:2][CX4;H1,H0;R:3]1.[CX4;H2,H1,H0;R:4]2[OX2;R:5][CX4;H1,H0;R:6]2).([OX1,SX1:7]=[CX2:8]=[NX2:9].[OX1,SX1:10]=[CX2:11]=[NX2:12][C,c:13])>>([CX4;R:6]1[OX2;R:5][CX2;R:8](=[OX1,SX1:7])[NX3;R:9][CX4;R:4]1.[CX4;R:3]1[OX2;R:2][CX2;R:11](=[OX1,SX1:10])[NX3;R:12](-*)[CX4;R:1]1.[C,c:13](-*))'\n",
    "Ps_rxnL[113] = AllChem.ReactionFromSmarts(pox)"
   ]
  },
  {
   "cell_type": "code",
   "execution_count": null,
   "id": "83654ea1",
   "metadata": {},
   "outputs": [],
   "source": [
    "#polysulfone; suldiX+diol\n",
    "PSU = '[c:1]1[c:2][c:3]([F,Cl,Br,I])[c:4][c:5][c:6]1[SX4](=[OX1])(=[OX1])[c:7]2[c:8][c:9][c:10]([F,Cl,Br,I])[c:11][c:12]2.([OX2;H1;!$([O,S]C=*):13].[OX2;H1;!$([O,S]C=*):14])>>[c:1]1[c:2][c:3](-[*])[c:4][c:5][c:6]1[SX4](=[OX1])(=[OX1])[c:7]2[c:8][c:9][c:10]([OX2;!$([O,S]C=*):13].[OX2;!$([O,S]C=*):14]-[*])[c:11][c:12]2'\n",
    "Ps_rxnL[114] = AllChem.ReactionFromSmarts(PSU)"
   ]
  },
  {
   "cell_type": "code",
   "execution_count": null,
   "id": "7f972e17",
   "metadata": {},
   "outputs": [],
   "source": [
    "#polysulfone; BzodiF+diol\n",
    "PEK = '[c:1]1[c:2][c:3]([F])[c:4][c:5][c:6]1[CX3](=[OX1])[c:7]2[c:8][c:9][c:10]([F])[c:11][c:12]2.([OX2;H1;!$([O,S]C=*):13].[OX2;H1;!$([O,S]C=*):14])>>[c:1]1[c:2][c:3](-[*])[c:4][c:5][c:6]1[CX3](=[OX1])[c:7]2[c:8][c:9][c:10]([OX2;!$([O,S]C=*):13].[OX2;!$([O,S]C=*):14]-[*])[c:11][c:12]2'\n",
    "Ps_rxnL[115] = AllChem.ReactionFromSmarts(PEK)"
   ]
  },
  {
   "cell_type": "code",
   "execution_count": null,
   "id": "74a5fbb2",
   "metadata": {},
   "outputs": [],
   "source": [
    "#sequential rection for epoxide groupe  \n",
    "seqole = '[CX3:1]=[CX3:2]>>*-[CX4:1][CX4:2]-*'\n",
    "Ps_rxnL[200] = AllChem.ReactionFromSmarts(seqole)"
   ]
  },
  {
   "cell_type": "code",
   "execution_count": null,
   "id": "4e030c89",
   "metadata": {},
   "outputs": [],
   "source": [
    "#sequential rection for epoxide groupe  \n",
    "seqepo = '[CX4;R:1]1[OX2;R][CX4;R:2]1>>[CX4:1](-*)[CX4:2][OX2]-*'\n",
    "Ps_rxnL[201] = AllChem.ReactionFromSmarts(seqepo)"
   ]
  },
  {
   "cell_type": "code",
   "execution_count": null,
   "id": "b4dae4a4",
   "metadata": {},
   "outputs": [],
   "source": [
    "#sequential rection for COOH groupe  \n",
    "seqCOOH = '[CX3:1](=[O])[OX2H1,F,Cl,Br,I]>>[CX3:1](=[O])-[*]'\n",
    "Ps_rxnL[202] = AllChem.ReactionFromSmarts(seqCOOH)"
   ]
  },
  {
   "cell_type": "code",
   "execution_count": null,
   "id": "ea9ca8dd",
   "metadata": {},
   "outputs": [],
   "source": [
    "#sequential rection for hydroxyl groupe  \n",
    "seqOH = '[C,c:1][OX2,SX2;H1;!$([O,S]C=*):2]>>[C,c:1][OX2,SX2;!$([O,S]C=*):2]-[*]'\n",
    "Ps_rxnL[203] = AllChem.ReactionFromSmarts(seqOH)"
   ]
  },
  {
   "cell_type": "code",
   "execution_count": null,
   "id": "96af814e",
   "metadata": {},
   "outputs": [],
   "source": [
    "#sequential rection for prim- and sec-amine  \n",
    "seqamin = '[C,c:1][NX3;H2;!$(NC=*):2]>>[C,c:1][NX3;!$(NC=*):2]-[*]'\n",
    "Ps_rxnL[204] = AllChem.ReactionFromSmarts(seqamin)"
   ]
  },
  {
   "cell_type": "code",
   "execution_count": null,
   "id": "f41e2f8c",
   "metadata": {},
   "outputs": [],
   "source": [
    "#sequential rection for isocyanate groupe  \n",
    "seqNCO = '[NX2:1]=[CX2:2]=[OX1,SX1:3]>>[NX3H1:1][CX3:2](=[OX1,SX1:3])-*'\n",
    "Ps_rxnL[205] = AllChem.ReactionFromSmarts(seqNCO)"
   ]
  },
  {
   "cell_type": "code",
   "execution_count": null,
   "id": "11c9e756",
   "metadata": {},
   "outputs": [],
   "source": [
    "#sequential rection for cyclic anhydride groupe  \n",
    "seqcAnhyd = '[C,c:1][CX3,c;R:2](=[OX1])[OX2,o;R][CX3,c;R:3](=[O])[C,c:4]>>([C,c:1][CX3:2](=[OX1])(-*).[C,c:4][CX3:3](=[OX1])[OX2]-*)'\n",
    "Ps_rxnL[206] = AllChem.ReactionFromSmarts(seqcAnhyd)"
   ]
  },
  {
   "cell_type": "code",
   "execution_count": null,
   "id": "68e27e9e",
   "metadata": {},
   "outputs": [],
   "source": [
    "#sequential rection for cyclic anhydride groupe 2 (for imide)   \n",
    "seqcAnhyd2 = '[CX3,c;R:1](=[OX1])[OX2,o;R][CX3,c;R:2](=[OX1])>>([CX3:1](=[OX1])[NX3](-*)[CX3:2](=[OX1]))'\n",
    "Ps_rxnL[207] = AllChem.ReactionFromSmarts(seqcAnhyd2)"
   ]
  },
  {
   "cell_type": "code",
   "execution_count": null,
   "id": "a338bea4",
   "metadata": {},
   "outputs": [],
   "source": [
    "#sequential rection for isocyanate groupe 2 (for oxazolidone)  \n",
    "seqNCO = '[NX2:1]=[CX2:2]=[OX1,SX1:3]>>[NX3:1](-*)[CX3:2](=[OX1,SX1:3])-*'\n",
    "Ps_rxnL[208] = AllChem.ReactionFromSmarts(seqNCO)"
   ]
  },
  {
   "cell_type": "code",
   "execution_count": null,
   "id": "7ec50865",
   "metadata": {},
   "outputs": [],
   "source": [
    "with open(\"./rules/ps_rxn.pkl\",\"wb\") as f:\n",
    "    pickle.dump(Ps_rxnL, f)"
   ]
  },
  {
   "cell_type": "markdown",
   "id": "ee5b1b08",
   "metadata": {},
   "source": [
    "#end"
   ]
  }
 ],
 "metadata": {
  "kernelspec": {
   "display_name": "Python 3 (ipykernel)",
   "language": "python",
   "name": "python3"
  },
  "language_info": {
   "codemirror_mode": {
    "name": "ipython",
    "version": 3
   },
   "file_extension": ".py",
   "mimetype": "text/x-python",
   "name": "python",
   "nbconvert_exporter": "python",
   "pygments_lexer": "ipython3",
   "version": "3.7.11"
  }
 },
 "nbformat": 4,
 "nbformat_minor": 5
}
