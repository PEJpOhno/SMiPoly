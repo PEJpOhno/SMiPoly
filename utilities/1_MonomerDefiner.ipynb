{
 "cells": [
  {
   "cell_type": "markdown",
   "metadata": {},
   "source": [
    "Copyright (c) 2021 Mitsuru Ohno  \n",
    "Use of this source code is governed by a BSD-3-style  \n",
    "license that can be found in the LICENSE file.  \n",
    "  \n",
    "07/27/2021, M. Ohno  \n",
    "tool for define monmers  \n",
    "  \n",
    "Refernce:  \n",
    "https://www.daylight.com/dayhtml_tutorials/languages/smarts/smarts_examples.html  \n",
    "https://www.daylight.com/dayhtml/doc/theory/theory.smarts.html  "
   ]
  },
  {
   "cell_type": "code",
   "execution_count": null,
   "metadata": {},
   "outputs": [],
   "source": [
    "import json"
   ]
  },
  {
   "cell_type": "markdown",
   "metadata": {},
   "source": [
    "define functional grope (FG) for each monomer  \n",
    "objective functional groupe (FG)：xxx_m  \n",
    "inconpatible FG：xxx_excl; CHO, N3, non-cyclic anhydride and non-cyclic imide were defined as inappropriate FG for materials  \n",
    "The number of the samle class of FG were limited 2 to 4 in the same molecule for poly functionalized monomer.  "
   ]
  },
  {
   "cell_type": "markdown",
   "metadata": {},
   "source": [
    "defined monomers,    \n",
    "  - vinyl (terminal olefin) include acrylate; vinyl  \n",
    "  - epoxide（mono and poly）; epo  \n",
    "  - epoxide (poly); diepo  \n",
    "  - cyclic olefin; cOle  \n",
    "  - lactone except gamma-butyrolactone; lactone \n",
    "  - lactame; lactame  \n",
    "  - hydroxy carboxilic acid; hydCOOH  \n",
    "  - amino acid; aminCOOH \n",
    "  - hindered phenol and thiophenol; hindPhenol  \n",
    "  - poly carboxylic acid and acid halide; diCOOH  \n",
    "  - polyol and thiol; diol  \n",
    "  - polyamine; diamn  \n",
    "  - polyisocyanate; diNCO  \n",
    "  - polycarboxilic acid anhydride; diCanhyd  "
   ]
  },
  {
   "cell_type": "markdown",
   "metadata": {},
   "source": [
    "modify this dictionaries if you add or derete monomer species"
   ]
  },
  {
   "cell_type": "markdown",
   "metadata": {},
   "source": [
    "for single monomer system; value 1- 49  \n",
    "for binary monomer system; value 51 - 99  \n",
    "for sequential polymerization of residual functional groupe (FG); 201 -   "
   ]
  },
  {
   "cell_type": "code",
   "execution_count": null,
   "metadata": {},
   "outputs": [],
   "source": [
    "#1- : for addition, RO polymerization, self-condensation etc.  \n",
    "#51- : for poly condensation etc.  \n",
    "mon_dic = {\"vinyl\":1, \"epo\":2, \"diepo\":51, \"cOle\":3, \"lactone\":4, \"lactam\":5, \"hydCOOH\":6, \"aminCOOH\":7, \n",
    "           \"hindPhenol\":8, \"cAnhyd\":9,  \"CO\":10, \"HCHO\":11, \"sfonediX\":12, \"BzodiF\":13, \n",
    "           \"diCOOH\":52, \"diol\":53, \"diamin\":54, \"diNCO\":55, \"dicAnhyd\":56, \"pridiamin\":57, \"diol_b\":58}\n",
    "mon_dic_inv = {v: k for k, v in mon_dic.items()}\n",
    "print(mon_dic_inv)"
   ]
  },
  {
   "cell_type": "code",
   "execution_count": null,
   "metadata": {},
   "outputs": [],
   "source": [
    "monL={}\n",
    "exclL={}"
   ]
  },
  {
   "cell_type": "code",
   "execution_count": null,
   "metadata": {},
   "outputs": [],
   "source": [
    "#modify this list if you add or derete monomer species\n",
    "#each list must have more than two elements.  \n",
    "monL[0] = ()\n",
    "exclL[0] = ()"
   ]
  },
  {
   "cell_type": "code",
   "execution_count": null,
   "metadata": {},
   "outputs": [],
   "source": [
    "#definition of vinyl monomer    \n",
    "#objective FG: open chain terminal olefin include acrylate, F and / or Cl substituted olefin  \n",
    "#excluded FG: -  \n",
    "n=mon_dic['vinyl']\n",
    "monL[n]=('[CX3H2]=[CX3]', '[CX3](F)(F)=[CX3]', '[CX3;H1](F)=[CX3]', \n",
    "         '[CX3](Cl)(Cl)=[CX3]', '[CX3;H1](Cl)=[CX3]', '[CX3](Cl)(F)=[CX3]')\n",
    "exclL[n]=('[CX3H1]=[O]', '[$(*-[NX2-]-[NX2+]#[NX1]),$(*-[NX2]=[NX2+]=[NX1-])]', \n",
    "         '[CX3;!R](=[OX1])[OX2;!R][CX3;!R](=[OX1])', '[CX3;!R](=[OX1])[NX3;!R][CX3;!R](=[OX1])')"
   ]
  },
  {
   "cell_type": "code",
   "execution_count": null,
   "metadata": {},
   "outputs": [],
   "source": [
    "#definition of epoxide monomer (which has at least one epxide)    \n",
    "#objective FG: open chain terminal epoxide, alicyclic epoxide  \n",
    "#excluded FG: prim- and sec-amine  \n",
    "n=mon_dic['epo']\n",
    "monL[n]=('[CX4H2]1[O][CX4]1', '[CX4;R]-[CX4H1]1[O][CX4]1-[CX4;R]', \n",
    "        '[CX4H1]1([F,Cl])[O][CX4]1', '[CX4]1([F,Cl])([F,Cl])[O][CX4]1', '[CX4;R]-[CX4]([F,Cl])1[O][CX4]1-[CX4;R]')\n",
    "exclL[n]=('[N&X3;H2,H1;!$(N[C,S]=*)]', \n",
    "          '[CX3H1]=[O]', '[$(*-[NX2-]-[NX2+]#[NX1]),$(*-[NX2]=[NX2+]=[NX1-])]', \n",
    "          '[CX3;!R](=[OX1])[OX2;!R][CX3;!R](=[OX1])', '[CX3;!R](=[OX1])[NX3;!R][CX3;!R](=[OX1])') "
   ]
  },
  {
   "cell_type": "code",
   "execution_count": null,
   "metadata": {},
   "outputs": [],
   "source": [
    "#definition of polyepoxide monomer    \n",
    "#objective FG: open chain terminal epoxide, alicyclic epoxide    \n",
    "#excluded FG: prim- and sec-amine     \n",
    "n=mon_dic['diepo']\n",
    "monL[n]=('[CX4H2]1[O][CX4]1', '[CX4;R]-[CX4H1]1[O][CX4]1-[CX4;R]', \n",
    "        '[CX4H1]1([F,Cl])[O][CX4]1', '[CX4]1([F,Cl])([F,Cl])[O][CX4]1', '[CX4;R]-[CX4]([F,Cl])1[O][CX4]1-[CX4;R]')\n",
    "exclL[n]=('[N&X3;H2,H1;!$(N[C,S]=*)]', '[CX3H1]=[O]', '[$(*-[NX2-]-[NX2+]#[NX1]),$(*-[NX2]=[NX2+]=[NX1-])]', \n",
    "          '[CX3;!R](=[OX1])[OX2;!R][CX3;!R](=[OX1])', '[CX3;!R](=[OX1])[NX3;!R][CX3;!R](=[OX1])') "
   ]
  },
  {
   "cell_type": "code",
   "execution_count": null,
   "metadata": {},
   "outputs": [],
   "source": [
    "#definition of cycloOflein monomer    \n",
    "#objective FG:   \n",
    "#excluded FG: cyclic diene  \n",
    "n=mon_dic['cOle']\n",
    "monL[n]=('[CX3;H1;R]=[CX3;H1;R]', '[CX3;H1;R]=[CX3;H0;R]')\n",
    "exclL[n]=('[CX3;R]=[CX3;R]-[CX3;R]=[CX3;R]', '[CX3H1]=[O]', '[$(*-[NX2-]-[NX2+]#[NX1]),$(*-[NX2]=[NX2+]=[NX1-])]', \n",
    "         '[CX3;!R](=[OX1])[OX2;!R][CX3;!R](=[OX1])', '[CX3;!R](=[OX1])[NX3;!R][CX3;!R](=[OX1])') "
   ]
  },
  {
   "cell_type": "code",
   "execution_count": null,
   "metadata": {},
   "outputs": [],
   "source": [
    "#definition of lactone monomer    \n",
    "#objective FG: aliphatic and aromatic, dioxodioxane was included    \n",
    "#excluded FG: gamma-lactone, cyclic acid anhydride  \n",
    "n=mon_dic['lactone']\n",
    "monL[n]=('[C;R][OX2;R][CX3;R](=[OX1])[C;R]', '[c][OX2;R][CX3;R](=[OX1])[C;R]', \n",
    "         '[OX2;R][CX3;R](=[OX1])[C;R][c]')\n",
    "exclL[n]=('[OX2;R]1[CX3;R](=[OX1])[C,c;R][C,c;R][C,c;R]1', '[c][OX2;R5][CX3;R5](=[OX1])', \n",
    "         '[OX2;R5][CX3;R5](=[OX1])[c]', '[C,c][C;R](=[OX1])[O;R][C;R](=[OX1])[C,c]', \n",
    "          '[CX3H1]=[O]', '[$(*-[NX2-]-[NX2+]#[NX1]),$(*-[NX2]=[NX2+]=[NX1-])]', \n",
    "          '[CX3;!R](=[OX1])[OX2;!R][CX3;!R](=[OX1])', '[CX3;!R](=[OX1])[NX3;!R][CX3;!R](=[OX1])') "
   ]
  },
  {
   "cell_type": "code",
   "execution_count": null,
   "metadata": {},
   "outputs": [],
   "source": [
    "#definition of lactam monomer    \n",
    "#objective FG: aliphatic and aromatic, N non-substituted   \n",
    "#excluded FG:5 membered ring, imide, isocyanurate   \n",
    "n=mon_dic['lactam']\n",
    "monL[n]=('[C;R][NX3;H1;R][CX3;R](=[OX1])[C;R][C;R]', '[c][NX3;H1;R][CX3;R](=[OX1])[C;R]', \n",
    "         '[NX3;H1;R][CX3;R](=[OX1])[C;R][c]')\n",
    "exclL[n]=('[NX3;R]1[CX3;R](=[OX1])[C,c;R][C,c;R][C,c;R]1', '[C,c;R5][NX3;R5][CX3;R5](=[OX1])[C,c;R5]', \n",
    "          '[C;R](=[OX1])[N;R][C;R](=[OX1])', '[C;R][N;R][C;R](=[OX1])[N;R]'\n",
    "          '[CX3H1]=[O]', '[$(*-[NX2-]-[NX2+]#[NX1]),$(*-[NX2]=[NX2+]=[NX1-])]', \n",
    "          '[CX3;!R](=[OX1])[OX2;!R][CX3;!R](=[OX1])', '[CX3;!R](=[OX1])[NX3;!R][CX3;!R](=[OX1])') "
   ]
  },
  {
   "cell_type": "code",
   "execution_count": null,
   "metadata": {},
   "outputs": [],
   "source": [
    "#definition of hydroxy carboxylic acid monomer    \n",
    "#objective FG:   \n",
    "#excluded FG:   \n",
    "n=mon_dic['hydCOOH']\n",
    "monL[n]=('[O&X2;H1;!$(OC=*)][C].[CX3](=[O])[OX2H1]', '[O&X2;H1;!$(OC=*)][c].[CX3](=[O])[OX2H1]')\n",
    "exclL[n]=('[CX3H1]=[O]', '[$(*-[NX2-]-[NX2+]#[NX1]),$(*-[NX2]=[NX2+]=[NX1-])]', \n",
    "          '[CX3;!R](=[OX1])[OX2;!R][CX3;!R](=[OX1])', '[CX3;!R](=[OX1])[NX3;!R][CX3;!R](=[OX1])') "
   ]
  },
  {
   "cell_type": "code",
   "execution_count": null,
   "metadata": {},
   "outputs": [],
   "source": [
    "#definition of amino acid monomer    \n",
    "#objective FG:   \n",
    "#excluded FG:   \n",
    "n=mon_dic['aminCOOH']\n",
    "monL[n]=(('[N&X3;H2,H1;!$(N[C,S]=*)][C].[CX3](=[O])[OX2H1]', '[N&X3;H2,H1;!$(N[C,S]=*)][c].[CX3](=[O])[OX2H1]'))\n",
    "exclL[n]=('[CX3H1]=[O]', '[$(*-[NX2-]-[NX2+]#[NX1]),$(*-[NX2]=[NX2+]=[NX1-])]', \n",
    "          '[CX3;!R](=[OX1])[OX2;!R][CX3;!R](=[OX1])', '[CX3;!R](=[OX1])[NX3;!R][CX3;!R](=[OX1])') "
   ]
  },
  {
   "cell_type": "code",
   "execution_count": null,
   "metadata": {},
   "outputs": [],
   "source": [
    "#definition of hindered phenol monomer    \n",
    "#objective FG:　o-disubstituted and p-unsubstituted phenol     \n",
    "#excluded FG: amine, halogenated compound  \n",
    "n=mon_dic['hindPhenol']\n",
    "monL[n]=('[c]1([OX2H1])[c]([C])[c][cX3H1][c][c]1([C])', )\n",
    "exclL[n]=('[N&X3;H2,H1,H0;!$(N[C,S]=*)]', '[F,Cl,Br,I]', \n",
    "          '[CX3H1]=[O]', '[$(*-[NX2-]-[NX2+]#[NX1]),$(*-[NX2]=[NX2+]=[NX1-])]', \n",
    "          '[CX3;!R](=[OX1])[OX2;!R][CX3;!R](=[OX1])', '[CX3;!R](=[OX1])[NX3;!R][CX3;!R](=[OX1])') "
   ]
  },
  {
   "cell_type": "code",
   "execution_count": null,
   "metadata": {},
   "outputs": [],
   "source": [
    "#definition of cyclic carboxilic acid anhydride monomer    \n",
    "#objective FG: cyclic carboxilic acid anhydride  \n",
    "#excluded FG: oxazoline  \n",
    "n=mon_dic['cAnhyd']\n",
    "monL[n]=('[C;R][C;R;X3](=[O])[O;R][C;R;X3](=[O])[C;R]', '[c][CX3,c;R](=[O])[O,o;R][CX3,c;R](=[O])[c]')\n",
    "exclL[n]=('[NX2;R][C;R;X3](=[O])[O;R][C;R;X3](=[O])[C;R]', '[NX3;R][C;R;X3](=[O])[O;R][C;R;X3](=[O])[C;R]', \n",
    "          '[CX3H1]=[O]', '[$(*-[NX2-]-[NX2+]#[NX1]),$(*-[NX2]=[NX2+]=[NX1-])]', \n",
    "         '[CX3;!R](=[OX1])[OX2;!R][CX3;!R](=[OX1])', '[CX3;!R](=[OX1])[NX3;!R][CX3;!R](=[OX1])')"
   ]
  },
  {
   "cell_type": "code",
   "execution_count": null,
   "metadata": {},
   "outputs": [],
   "source": [
    "#definition of carbonmonooxide for carbonate    \n",
    "#objective FG: CO  \n",
    "#excluded FG: -  \n",
    "n=mon_dic['CO']\n",
    "monL[n]=('[C-]#[O+]',)\n",
    "exclL[n]=('[CX3H1]=[O]', '[$(*-[NX2-]-[NX2+]#[NX1]),$(*-[NX2]=[NX2+]=[NX1-])]', \n",
    "         '[CX3;!R](=[OX1])[OX2;!R][CX3;!R](=[OX1])', '[CX3;!R](=[OX1])[NX3;!R][CX3;!R](=[OX1])')"
   ]
  },
  {
   "cell_type": "code",
   "execution_count": null,
   "metadata": {},
   "outputs": [],
   "source": [
    "#definition of fromaldehyde for phenol / melamine resin    \n",
    "#objective FG: HCHO  \n",
    "#excluded FG: -  \n",
    "n=mon_dic['HCHO']\n",
    "monL[n]=('[CX3;H2]=[OX1]',)\n",
    "exclL[n]=('[CX3H1]=[O]', '[$(*-[NX2-]-[NX2+]#[NX1]),$(*-[NX2]=[NX2+]=[NX1-])]', \n",
    "         '[CX3;!R](=[OX1])[OX2;!R][CX3;!R](=[OX1])', '[CX3;!R](=[OX1])[NX3;!R][CX3;!R](=[OX1])')"
   ]
  },
  {
   "cell_type": "code",
   "execution_count": null,
   "metadata": {},
   "outputs": [],
   "source": [
    "#definition of polycarboxylic acid monomer include acid chrolide   \n",
    "#objective FG: aliphatic prim- and sec-carboxylic acid, aromatic carboxylic acid    \n",
    "#excluded FG: alcohol, amine and tert-carboxylic acid     \n",
    "n=mon_dic['diCOOH']\n",
    "monL[n]=('[CX4H2][C](=[O])[OH1]', '[CX4H1][C](=[O])[OH1]', '[c][C](=O)[OH1]', \n",
    "        '[CX4H2][C](=[O])[Cl,Br]', '[CX4H1][C](=[O])[Cl,Br]', '[c][C](=O)[Cl,Br]')\n",
    "exclL[n]=('[CX4H2][OH1]', '[CX4H1][OH1]', '[CX4H0][OH1]', '[CX4H0][C](=[O])[OH1]', '[CX4H0][C](=[O])[Cl,Br]'\n",
    "           '[N&X3;H2,H1;!$(N[C,S]=*)]', \n",
    "           '[CX3H1]=[O]', '[$(*-[NX2-]-[NX2+]#[NX1]),$(*-[NX2]=[NX2+]=[NX1-])]', \n",
    "          '[CX3;!R](=[OX1])[OX2;!R][CX3;!R](=[OX1])', '[CX3;!R](=[OX1])[NX3;!R][CX3;!R](=[OX1])') "
   ]
  },
  {
   "cell_type": "code",
   "execution_count": null,
   "metadata": {},
   "outputs": [],
   "source": [
    "#definition of polyol monomer include thiol    \n",
    "#objective FG: phenol, aliphatic prim- and sec-alcohol    \n",
    "#excluded FG: carboxylic acid, non-cyclic tert-alcohol, sugar, amine  \n",
    "n=mon_dic['diol']\n",
    "monL[n]=('[CX4H1][OX2,SX2;H1]', '[CX4H2][OX2,SX2;H1]', '[c][OX2,SX2;H1]')\n",
    "exclL[n]=('[CX3H0](=[O])[OH1]', '[CX4H0;!R]([C])([C])[O,S;H1]', '[CX4H1;R]([OH1])[CX4H1;R]([OH1])[O;R]', \n",
    "           '[N&X3;H2,H1;!$(N[C,S]=*)]', \n",
    "           '[CX3H1]=[O]', '[$(*-[NX2-]-[NX2+]#[NX1]),$(*-[NX2]=[NX2+]=[NX1-])]', \n",
    "          '[CX3;!R](=[OX1])[OX2;!R][CX3;!R](=[OX1])', '[CX3;!R](=[OX1])[NX3;!R][CX3;!R](=[OX1])')"
   ]
  },
  {
   "cell_type": "code",
   "execution_count": null,
   "metadata": {},
   "outputs": [],
   "source": [
    "#definition of polyamine monomer    \n",
    "#objective FG: prim- and sec-amine (aliphatic and aromatic)  \n",
    "#excluded FG: carboxylic acd, alcohol, amide  \n",
    "n=mon_dic['diamin']\n",
    "monL[n]=('[C][N&X3;H2,H1;!$(N[C,S]=*)]', '[c][N&X3;H2,H1;!$(N[C,S]=*)]')\n",
    "exclL[n]=('[CX3H0](=[O])[OH1]', '[CX4H0]([C])([C])[OH1]', '[CX4H1;R]([OH1])[CX4H1;R]([OH1])[O;R]', \n",
    "           '[C][OH1]', '[c][OH1]'\n",
    "           '[CX3H1]=[O]', '[$(*-[NX2-]-[NX2+]#[NX1]),$(*-[NX2]=[NX2+]=[NX1-])]', \n",
    "         '[CX3;!R](=[OX1])[OX2;!R][CX3;!R](=[OX1])', '[CX3;!R](=[OX1])[NX3;!R][CX3;!R](=[OX1])')"
   ]
  },
  {
   "cell_type": "code",
   "execution_count": null,
   "metadata": {},
   "outputs": [],
   "source": [
    "#definition of polyisocyanate monomer    \n",
    "#objective FG: aliphatic and aromatic isocyanate and thioisosyanate  \n",
    "#excluded FG: -  \n",
    "n=mon_dic['diNCO']\n",
    "monL[n]=('[C]-[NX2]=[CX2]=[O,S;X1]', '[c]-[NX2]=[CX2]=[O,S;X1]')\n",
    "exclL[n]=('[CX3H1]=[O]', '[$(*-[NX2-]-[NX2+]#[NX1]),$(*-[NX2]=[NX2+]=[NX1-])]', \n",
    "         '[CX3;!R](=[OX1])[OX2;!R][CX3;!R](=[OX1])', '[CX3;!R](=[OX1])[NX3;!R][CX3;!R](=[OX1])')"
   ]
  },
  {
   "cell_type": "code",
   "execution_count": null,
   "metadata": {},
   "outputs": [],
   "source": [
    "#definition of poly (cyclic carboxilic acid anhydride) monomer    \n",
    "#objective FG: poly (cyclic carboxilic acid anhydride)  \n",
    "#excluded FG: oxazoline  \n",
    "n=mon_dic['dicAnhyd']\n",
    "monL[n]=('[C;R][C;R;X3](=[OX1])[OX2;R][C;R;X3](=[OX1])[C;R]', '[c][CX3,c;R](=[OX1])[OX2,o;R][CX3,c;R](=[OX1])[c]')\n",
    "exclL[n]=('[NX2;R][C;R;X3](=[O])[O;R][C;R;X3](=[O])[C;R]', '[NX3;R][C;R;X3](=[O])[O;R][C;R;X3](=[O])[C;R]', \n",
    "          '[CX3H1]=[O]', '[$(*-[NX2-]-[NX2+]#[NX1]),$(*-[NX2]=[NX2+]=[NX1-])]', \n",
    "         '[CX3;!R](=[OX1])[OX2;!R][CX3;!R](=[OX1])', '[CX3;!R](=[OX1])[NX3;!R][CX3;!R](=[OX1])')"
   ]
  },
  {
   "cell_type": "code",
   "execution_count": null,
   "metadata": {},
   "outputs": [],
   "source": [
    "#definition of primary polyamine monomer    \n",
    "#objective FG: prim-amine (aliphatic and aromatic)  \n",
    "#excluded FG: carboxylic acd, alcohol, amide  \n",
    "n=mon_dic['pridiamin']\n",
    "monL[n]=('[C][N&X3;H2;!$(N[C,S]=*)]', '[c][N&X3;H2;!$(N[C,S]=*)]')\n",
    "exclL[n]=('[CX3H0](=[O])[OH1]', '[CX3H0](=[O])[NX3]',  '[CX4][OH1]', '[c][OH1]', \n",
    "          '[CX3H1]=[O]', '[$(*-[NX2-]-[NX2+]#[NX1]),$(*-[NX2]=[NX2+]=[NX1-])]', \n",
    "          '[CX3;!R](=[OX1])[OX2;!R][CX3;!R](=[OX1])', '[CX3;!R](=[OX1])[NX3;!R][CX3;!R](=[OX1])')"
   ]
  },
  {
   "cell_type": "code",
   "execution_count": null,
   "metadata": {},
   "outputs": [],
   "source": [
    "#definition of diArsulfone monomer    \n",
    "#objective FG: p-halogenated aryl sulfone  \n",
    "#excluded FG: carbonyl with oxygen (acid, ester etc), amide, alcohol, prim- and sec-amine, nitryl, tert-alkyl  \n",
    "n=mon_dic['sfonediX']\n",
    "monL[n]=('[c]1[c][c]([F,Cl,Br,I])[c][c][c]1[SX4](=[OX1])(=[OX1])[c]2[c][c][c]([F,Cl,Br,I])[c][c]2', )\n",
    "exclL[n]=('[CX3](=[OX1])[OX2]', '[CX3H0](=[O])[NX3]',  '[CX4][OH1]', '[c][OH1]', \n",
    "          '[CX4][N&X3;H2;!$(N[C,S]=*)]', '[c][N&X3;H2;!$(N[C,S]=*)]', '[NX1]#[CX2]', '[CX4]([C,c])([C,c])[C,c]', \n",
    "          '[CX3H1]=[O]', '[$(*-[NX2-]-[NX2+]#[NX1]),$(*-[NX2]=[NX2+]=[NX1-])]', \n",
    "          '[CX3;!R](=[OX1])[OX2;!R][CX3;!R](=[OX1])', '[CX3;!R](=[OX1])[NX3;!R][CX3;!R](=[OX1])')"
   ]
  },
  {
   "cell_type": "code",
   "execution_count": null,
   "metadata": {},
   "outputs": [],
   "source": [
    "#definition of benzophenone-p-diF monomer    \n",
    "#objective FG: p-fuluorinated brnzophenone  \n",
    "#excluded FG: carbonyl with oxygen (acid, ester etc), amide, alcohol, prim- and sec-amine, nitryl, tert-alkyl  \n",
    "n=mon_dic['BzodiF']\n",
    "monL[n]=('[c]1[c][c]([F])[c][c][c]1[CX3](=[OX1])[c]2[c][c][c]([F])[c][c]2', )\n",
    "exclL[n]=('[CX3](=[OX1])[OX2]', '[CX3H0](=[O])[NX3]',  '[CX4][OH1]', '[c][OH1]', \n",
    "          '[CX4][N&X3;H2;!$(N[C,S]=*)]', '[c][N&X3;H2;!$(N[C,S]=*)]', '[NX1]#[CX2]', '[CX4]([C,c])([C,c])[C,c]', \n",
    "          '[CX3H1]=[O]', '[$(*-[NX2-]-[NX2+]#[NX1]),$(*-[NX2]=[NX2+]=[NX1-])]', \n",
    "          '[CX3;!R](=[OX1])[OX2;!R][CX3;!R](=[OX1])', '[CX3;!R](=[OX1])[NX3;!R][CX3;!R](=[OX1])')"
   ]
  },
  {
   "cell_type": "code",
   "execution_count": null,
   "metadata": {},
   "outputs": [],
   "source": [
    "#definition of polyol monomer include thiol for alkaline condensation    \n",
    "#objective FG: phenol, aliphatic prim- and sec-alcohol    \n",
    "#excluded FG: carbonyl with oxygen (acid, ester etc), non-cyclic tert-alcohol, thiol, sugar, amine, nitryl, epoxide  \n",
    "n=mon_dic['diol_b']\n",
    "monL[n]=('[CX4H1][OX2;H1]', '[CX4H2][OX2;H1]', '[c][OX2;H1]')\n",
    "exclL[n]=('[CX3](=[OX1])[OX2]', '[CX4H0;!R]([C])([C])[O,S;H1]', '[CX4H1;R]([OH1])[CX4H1;R]([OH1])[O;R]', \n",
    "          '[CX4H1][SX2;H1]', '[CX4H2][SX2;H1]', '[c][SX2;H1]',\n",
    "          '[N&X3;H2,H1;!$(N[C,S]=*)]', '[CX3H0](=[O])[NX3]', '[NX1]#[CX2]', '[CX4]1[OX2][CX4]1', \n",
    "          '[CX3H1]=[O]', '[$(*-[NX2-]-[NX2+]#[NX1]),$(*-[NX2]=[NX2+]=[NX1-])]', \n",
    "          '[CX3;!R](=[OX1])[OX2;!R][CX3;!R](=[OX1])', '[CX3;!R](=[OX1])[NX3;!R][CX3;!R](=[OX1])')"
   ]
  },
  {
   "cell_type": "code",
   "execution_count": null,
   "metadata": {},
   "outputs": [],
   "source": [
    "#for sequential polymerization of residual FGs\n",
    "monL[200] = ('[CX3]=[CX3]')\n",
    "monL[201] = ('[CX4;R]1[OX2;R][CX4;R]1')\n",
    "monL[202] = ('[CX3](=[O])[OX2H1,F,Cl,Br,I]')\n",
    "monL[203] = ('[C,c][OX2,SX2;H1;!$([O,S]C=*)]')\n",
    "monL[204] = ('[C,c][NX3;H2;!$(N[C,S]=*)]')\n",
    "monL[205] = ('[NX2]=[CX2]=[OX1,SX1]')\n",
    "monL[206] = ('[C,c][CX3,c;R](=[OX1])[OX2,o;R][CX3,c;R](=[OX1])[C,c]')"
   ]
  },
  {
   "cell_type": "markdown",
   "metadata": {},
   "source": [
    "export lists, dictionaries and defs as pickle"
   ]
  },
  {
   "cell_type": "code",
   "execution_count": null,
   "metadata": {},
   "outputs": [],
   "source": [
    "with open(\"./rules/mon_dic.json\",\"w\") as f:\n",
    "    json.dump(mon_dic, f)"
   ]
  },
  {
   "cell_type": "code",
   "execution_count": null,
   "metadata": {},
   "outputs": [],
   "source": [
    "with open(\"./rules/mon_dic_inv.json\",\"w\") as f:\n",
    "    json.dump(mon_dic_inv, f)"
   ]
  },
  {
   "cell_type": "code",
   "execution_count": null,
   "metadata": {},
   "outputs": [],
   "source": [
    "with open(\"./rules/mon_lst.json\",\"w\") as f:\n",
    "    json.dump(monL, f)"
   ]
  },
  {
   "cell_type": "code",
   "execution_count": null,
   "metadata": {},
   "outputs": [],
   "source": [
    "with open(\"./rules/excl_lst.json\",\"w\") as f:\n",
    "    json.dump(exclL, f)"
   ]
  },
  {
   "cell_type": "markdown",
   "metadata": {},
   "source": [
    "end"
   ]
  }
 ],
 "metadata": {
  "kernelspec": {
   "display_name": "Python 3 (ipykernel)",
   "language": "python",
   "name": "python3"
  },
  "language_info": {
   "codemirror_mode": {
    "name": "ipython",
    "version": 3
   },
   "file_extension": ".py",
   "mimetype": "text/x-python",
   "name": "python",
   "nbconvert_exporter": "python",
   "pygments_lexer": "ipython3",
   "version": "3.7.11"
  }
 },
 "nbformat": 4,
 "nbformat_minor": 4
}
