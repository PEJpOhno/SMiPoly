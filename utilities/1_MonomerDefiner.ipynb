{
 "cells": [
  {
   "cell_type": "markdown",
   "metadata": {
    "id": "pJJYMFna3hnM"
   },
   "source": [
    "Copyright (c) 2021 Mitsuru Ohno  \n",
    "Use of this source code is governed by a BSD-3-style  \n",
    "license that can be found in the LICENSE file.  \n",
    "  \n",
    "07/27/2021, M. Ohno  \n",
    "tool for define monmers  \n",
    "  \n",
    "Refernce:  \n",
    "https://www.daylight.com/dayhtml_tutorials/languages/smarts/smarts_examples.html  \n",
    "https://www.daylight.com/dayhtml/doc/theory/theory.smarts.html  "
   ]
  },
  {
   "cell_type": "code",
   "execution_count": null,
   "metadata": {
    "id": "Br62wmV_3hnQ"
   },
   "outputs": [],
   "source": [
    "import json"
   ]
  },
  {
   "cell_type": "markdown",
   "metadata": {
    "id": "MTXMHr6U3hnR"
   },
   "source": [
    "define functional grope (FG) for each monomer  \n",
    "objective functional groupe (FG)：xxx_m  \n",
    "inconpatible FG：xxx_excl; CHO, N3, non-cyclic anhydride and non-cyclic imide were defined as inappropriate FG for materials  \n",
    "The number of the samle class of FG were limited 2 to 4 in the same molecule for poly functionalized monomer.  "
   ]
  },
  {
   "cell_type": "markdown",
   "metadata": {
    "id": "_g1IlAB-3hnS"
   },
   "source": [
    "defined monomers,    \n",
    "  - vinylidene (terminal olefin) include acrylate; vinyl  \n",
    "  - epoxide（mono and poly）; epo  \n",
    "  - epoxide (poly); diepo  \n",
    "  - cyclic olefin; cOle  \n",
    "  - lactone except gamma-butyrolactone; lactone\n",
    "  - lactame; lactame  \n",
    "  - hydroxy carboxilic acid; hydCOOH  \n",
    "  - amino acid; aminCOOH\n",
    "  - hindered phenol and thiophenol; hindPhenol  \n",
    "  - poly carboxylic acid and acid halide; diCOOH  \n",
    "  - polyol and thiol; diol  \n",
    "  - polyamine; diamn  \n",
    "  - polyisocyanate; diNCO  \n",
    "  - polycarboxilic acid anhydride; diCanhyd  "
   ]
  },
  {
   "cell_type": "markdown",
   "metadata": {
    "id": "tCaXt7Y-3hnS"
   },
   "source": [
    "Detailed definition of olefin monomers,\n",
    " - acryl  \n",
    " - beta-electronwithdrawing group substituted olefon  \n",
    " - styryl  \n",
    " - allyl  \n",
    " - halegenated hydrocarbon    \n",
    " - vinyl ester  \n",
    " - maleic imide derivatives  \n",
    " - conjugated dienes  \n",
    " - vinyl ether  \n",
    " - beta-di substituted aliphatic vinilidene olefin (tertcatCH)  \n",
    " - aliphatic cyclic and chain olefine  \n",
    "  \n",
    "reference  \n",
    "https://doi.org/10.11364/networkpolymer.30.234  \n",
    "https://doi.org/10.5059/yukigoseikyokaishi.22.20  "
   ]
  },
  {
   "cell_type": "markdown",
   "metadata": {
    "id": "BloWlPrW3hnS"
   },
   "source": [
    "modify this dictionaries if you add or derete monomer species"
   ]
  },
  {
   "cell_type": "markdown",
   "metadata": {
    "id": "7Nojbkts3hnT"
   },
   "source": [
    "for single monomer system; value 1- 49  \n",
    "for binary monomer system; value 51 - 99  \n",
    "for sequential polymerization of residual functional groupe (FG); 201 -   \n",
    "for detailed definition of olefin monomers; 1001 -  \n",
    "1051 is an unused number for COC  "
   ]
  },
  {
   "cell_type": "code",
   "execution_count": null,
   "metadata": {
    "id": "bhn8-Kdj3hnT"
   },
   "outputs": [],
   "source": [
    "#1- : for addition, RO polymerization, self-condensation etc.\n",
    "#51- : for poly condensation etc.\n",
    "mon_dic = {\"vinyl\":1, \"epo\":2, \"diepo\":51, \"cOle\":3, \"lactone\":4, \"lactam\":5, \"hydCOOH\":6, \"aminCOOH\":7,\n",
    "           \"hindPhenol\":8, \"cAnhyd\":9,  \"CO\":10, \"HCHO\":11, \"sfonediX\":12, \"BzodiF\":13,\n",
    "           \"diCOOH\":52, \"diol\":53, \"diamin\":54, \"diNCO\":55, \"dicAnhyd\":56, \"pridiamin\":57, \"diol_b\":58,\n",
    "           \"acryl\":1001, \"bEWole\":1002, \"styryl\":1003, \"allyl\":1004, \"haloCH\":1005, \"vinylester\":1006,\n",
    "           \"malei\":1007, \"conjdiene\":1020, \"vinylether\":1030, \"tertcatCH\":1031, \"cycCH\":1050, \"aliphCH\":1052, }\n",
    "mon_dic_inv = {v: k for k, v in mon_dic.items()}"
   ]
  },
  {
   "cell_type": "code",
   "execution_count": null,
   "metadata": {
    "id": "XTeRgHJj3hnT"
   },
   "outputs": [],
   "source": [
    "#refine follows tuple if definition of monomer species was modified\n",
    "#tuple ((value of mon_dic for addition, RO polymerization, self-condensation etc.),\n",
    "#(value of mon_dic for poly condensation etc. ))\n",
    "mon_vals = ((1,2,3,4,5,6,7,8,9,10,11,12,13), (51,52,53,54,55,56,57,58), (200, 201, 202, 203, 204, 205, 206),\n",
    "            (1001, 1002, 1003, 1004, 1005, 1006, 1007,1020, 1030, 1031, 1050, 1052))"
   ]
  },
  {
   "cell_type": "code",
   "execution_count": null,
   "metadata": {
    "id": "tNVhGNc83hnU"
   },
   "outputs": [],
   "source": [
    "monL={}\n",
    "exclL={}"
   ]
  },
  {
   "cell_type": "code",
   "execution_count": null,
   "metadata": {
    "id": "ESNcwLMD3hnU"
   },
   "outputs": [],
   "source": [
    "#modify this list if you add or derete monomer species\n",
    "#each list must have more than two elements.\n",
    "monL[0] = ()\n",
    "exclL[0] = ()"
   ]
  },
  {
   "cell_type": "code",
   "execution_count": null,
   "metadata": {
    "id": "vAspxklI3hnU"
   },
   "outputs": [],
   "source": [
    "#definition of vinylidene monomer\n",
    "#objective FG: open chain terminal olefin include acrylate, F and / or Cl substituted olefin\n",
    "#excluded FG: -\n",
    "n=mon_dic['vinyl']\n",
    "monL[n]=('[CX3H2]=[CX3]', '[CX3](F)(F)=[CX3]', '[CX3;H1](F)=[CX3]',\n",
    "         '[CX3](Cl)(Cl)=[CX3]', '[CX3;H1](Cl)=[CX3]', '[CX3](Cl)(F)=[CX3]')\n",
    "exclL[n]=('[CX3H1]=[O]', '[$(*-[NX2-]-[NX2+]#[NX1]),$(*-[NX2]=[NX2+]=[NX1-])]',\n",
    "         '[CX3;!R](=[OX1])[OX2;!R][CX3;!R](=[OX1])', '[CX3;!R](=[OX1])[NX3;!R][CX3;!R](=[OX1])')"
   ]
  },
  {
   "cell_type": "code",
   "execution_count": null,
   "metadata": {
    "id": "31KAS1C33hnU"
   },
   "outputs": [],
   "source": [
    "#definition of epoxide monomer (which has at least one epxide)\n",
    "#objective FG: open chain terminal epoxide, alicyclic epoxide\n",
    "#excluded FG: prim- and sec-amine\n",
    "n=mon_dic['epo']\n",
    "monL[n]=('[CX4H2]1[O][CX4]1', '[c,CX4;R]-[CX4H1]1[O][CX4]1-[c,CX4;R]',\n",
    "         '[CX4H1]1([F,Cl])[O][CX4]1', '[CX4]1([F,Cl])([F,Cl])[O][CX4]1', '[c,CX4;R]-[CX4]1([F,Cl])[O][CX4]1-[c,CX4;R]') #added c\n",
    "exclL[n]=('[N&X3;H2,H1;!$(N[C,S]=*)]',\n",
    "          '[CX3H1]=[O]', '[$(*-[NX2-]-[NX2+]#[NX1]),$(*-[NX2]=[NX2+]=[NX1-])]',\n",
    "          '[CX3;!R](=[OX1])[OX2;!R][CX3;!R](=[OX1])', '[CX3;!R](=[OX1])[NX3;!R][CX3;!R](=[OX1])')"
   ]
  },
  {
   "cell_type": "code",
   "execution_count": null,
   "metadata": {
    "id": "UtCxDlek3hnV"
   },
   "outputs": [],
   "source": [
    "#definition of polyepoxide monomer\n",
    "#objective FG: open chain terminal epoxide, alicyclic epoxide\n",
    "#excluded FG: prim- and sec-amine\n",
    "n=mon_dic['diepo']\n",
    "monL[n]=('[CX4H2]1[O][CX4]1', '[c,CX4;R]-[CX4H1]1[O][CX4]1-[c,CX4;R]',\n",
    "         '[CX4H1]1([F,Cl])[O][CX4]1', '[CX4]1([F,Cl])([F,Cl])[O][CX4]1', '[c,CX4;R]-[CX4]1([F,Cl])[O][CX4]1-[c,CX4;R]') #added c\n",
    "exclL[n]=('[N&X3;H2,H1;!$(N[C,S]=*)]', '[CX3H1]=[O]', '[$(*-[NX2-]-[NX2+]#[NX1]),$(*-[NX2]=[NX2+]=[NX1-])]',\n",
    "          '[CX3;!R](=[OX1])[OX2;!R][CX3;!R](=[OX1])', '[CX3;!R](=[OX1])[NX3;!R][CX3;!R](=[OX1])')"
   ]
  },
  {
   "cell_type": "code",
   "execution_count": null,
   "metadata": {
    "id": "fzvEYoA03hnV"
   },
   "outputs": [],
   "source": [
    "#definition of cycloOflein monomer\n",
    "#objective FG:\n",
    "#excluded FG: cyclic diene\n",
    "n=mon_dic['cOle']\n",
    "monL[n]=('[CX3;H1;R]=[CX3;H1;R]', '[CX3;H1;R]=[CX3;H0;R]')\n",
    "exclL[n]=('[CX3;R]=[CX3;R]-[CX3;R]=[CX3;R]', '[CX3H1]=[O]', '[$(*-[NX2-]-[NX2+]#[NX1]),$(*-[NX2]=[NX2+]=[NX1-])]',\n",
    "         '[CX3;!R](=[OX1])[OX2;!R][CX3;!R](=[OX1])', '[CX3;!R](=[OX1])[NX3;!R][CX3;!R](=[OX1])')"
   ]
  },
  {
   "cell_type": "code",
   "execution_count": null,
   "metadata": {
    "id": "tKglyB5m3hnV"
   },
   "outputs": [],
   "source": [
    "#definition of lactone monomer\n",
    "#objective FG: aliphatic and aromatic, dioxodioxane was included\n",
    "#excluded FG: gamma-lactone, cyclic acid anhydride\n",
    "n=mon_dic['lactone']\n",
    "monL[n]=('[C;R][OX2;R][CX3;R](=[OX1])[C;R]', '[c][OX2;R][CX3;R](=[OX1])[C;R]',\n",
    "         '[OX2;R][CX3;R](=[OX1])[C;R][c]')\n",
    "exclL[n]=('[OX2;R]1[CX3;R](=[OX1])[C,c;R][C,c;R][C,c;R]1', '[c][OX2;R5][CX3;R5](=[OX1])',\n",
    "         '[OX2;R5][CX3;R5](=[OX1])[c]', '[C,c][C;R](=[OX1])[O;R][C;R](=[OX1])[C,c]',\n",
    "          '[CX3H1]=[O]', '[$(*-[NX2-]-[NX2+]#[NX1]),$(*-[NX2]=[NX2+]=[NX1-])]',\n",
    "          '[CX3;!R](=[OX1])[OX2;!R][CX3;!R](=[OX1])', '[CX3;!R](=[OX1])[NX3;!R][CX3;!R](=[OX1])')"
   ]
  },
  {
   "cell_type": "code",
   "execution_count": null,
   "metadata": {
    "id": "6lcRDpWY3hnW"
   },
   "outputs": [],
   "source": [
    "#definition of lactam monomer\n",
    "#objective FG: aliphatic and aromatic, N non-substituted\n",
    "#excluded FG:5 membered ring, imide, isocyanurate\n",
    "n=mon_dic['lactam']\n",
    "monL[n]=('[C;R][NX3;H1;R][CX3;R](=[OX1])[C;R][C;R]', '[c][NX3;H1;R][CX3;R](=[OX1])[C;R]',\n",
    "         '[NX3;H1;R][CX3;R](=[OX1])[C;R][c]')\n",
    "exclL[n]=('[NX3;R]1[CX3;R](=[OX1])[C,c;R][C,c;R][C,c;R]1', '[C,c;R5][NX3;R5][CX3;R5](=[OX1])[C,c;R5]',\n",
    "          '[C;R](=[OX1])[N;R][C;R](=[OX1])', '[C;R][N;R][C;R](=[OX1])[N;R]'\n",
    "          '[CX3H1]=[O]', '[$(*-[NX2-]-[NX2+]#[NX1]),$(*-[NX2]=[NX2+]=[NX1-])]',\n",
    "          '[CX3;!R](=[OX1])[OX2;!R][CX3;!R](=[OX1])', '[CX3;!R](=[OX1])[NX3;!R][CX3;!R](=[OX1])')"
   ]
  },
  {
   "cell_type": "code",
   "execution_count": null,
   "metadata": {
    "id": "gxItHngB3hnW"
   },
   "outputs": [],
   "source": [
    "#definition of hydroxy carboxylic acid monomer\n",
    "#objective FG:\n",
    "#excluded FG:\n",
    "n=mon_dic['hydCOOH']\n",
    "monL[n]=('[O&X2;H1;!$(OC=*)][C].[CX3](=[O])[OX2H1]', '[O&X2;H1;!$(OC=*)][c].[CX3](=[O])[OX2H1]')\n",
    "exclL[n]=('[CX3H1]=[O]', '[$(*-[NX2-]-[NX2+]#[NX1]),$(*-[NX2]=[NX2+]=[NX1-])]',\n",
    "          '[CX3;!R](=[OX1])[OX2;!R][CX3;!R](=[OX1])', '[CX3;!R](=[OX1])[NX3;!R][CX3;!R](=[OX1])')"
   ]
  },
  {
   "cell_type": "code",
   "execution_count": null,
   "metadata": {
    "id": "IaFDj3Mj3hnW"
   },
   "outputs": [],
   "source": [
    "#definition of amino acid monomer\n",
    "#objective FG:\n",
    "#excluded FG:\n",
    "n=mon_dic['aminCOOH']\n",
    "monL[n]=(('[N&X3;H2,H1;!$(N[C,S]=*)][C].[CX3](=[O])[OX2H1]', '[N&X3;H2,H1;!$(N[C,S]=*)][c].[CX3](=[O])[OX2H1]'))\n",
    "exclL[n]=('[CX3H1]=[O]', '[$(*-[NX2-]-[NX2+]#[NX1]),$(*-[NX2]=[NX2+]=[NX1-])]',\n",
    "          '[CX3;!R](=[OX1])[OX2;!R][CX3;!R](=[OX1])', '[CX3;!R](=[OX1])[NX3;!R][CX3;!R](=[OX1])')"
   ]
  },
  {
   "cell_type": "code",
   "execution_count": null,
   "metadata": {
    "id": "8KEX4DE53hnW"
   },
   "outputs": [],
   "source": [
    "#definition of hindered phenol monomer\n",
    "#objective FG:　o-disubstituted and p-unsubstituted phenol\n",
    "#excluded FG: amine, halogenated compound\n",
    "n=mon_dic['hindPhenol']\n",
    "monL[n]=('[c]1([OX2H1])[c]([C])[c][cX3H1][c][c]1([C])', )\n",
    "exclL[n]=('[N&X3;H2,H1,H0;!$(N[C,S]=*)]', '[F,Cl,Br,I]',\n",
    "          '[CX3H1]=[O]', '[$(*-[NX2-]-[NX2+]#[NX1]),$(*-[NX2]=[NX2+]=[NX1-])]',\n",
    "          '[CX3;!R](=[OX1])[OX2;!R][CX3;!R](=[OX1])', '[CX3;!R](=[OX1])[NX3;!R][CX3;!R](=[OX1])')"
   ]
  },
  {
   "cell_type": "code",
   "execution_count": null,
   "metadata": {
    "id": "1RRd7AjE3hnX"
   },
   "outputs": [],
   "source": [
    "#definition of cyclic carboxilic acid anhydride monomer\n",
    "#objective FG: cyclic carboxilic acid anhydride\n",
    "#excluded FG: oxazoline\n",
    "n=mon_dic['cAnhyd']\n",
    "monL[n]=('[C;R][C;R;X3](=[O])[O;R][C;R;X3](=[O])[C;R]', '[c][CX3,c;R](=[O])[O,o;R][CX3,c;R](=[O])[c]')\n",
    "exclL[n]=('[NX2;R][C;R;X3](=[O])[O;R][C;R;X3](=[O])[C;R]', '[NX3;R][C;R;X3](=[O])[O;R][C;R;X3](=[O])[C;R]',\n",
    "          '[CX3H1]=[O]', '[$(*-[NX2-]-[NX2+]#[NX1]),$(*-[NX2]=[NX2+]=[NX1-])]',\n",
    "         '[CX3;!R](=[OX1])[OX2;!R][CX3;!R](=[OX1])', '[CX3;!R](=[OX1])[NX3;!R][CX3;!R](=[OX1])')"
   ]
  },
  {
   "cell_type": "code",
   "execution_count": null,
   "metadata": {
    "id": "KtjCYzF_3hnX"
   },
   "outputs": [],
   "source": [
    "#definition of carbonmonooxide for carbonate\n",
    "#objective FG: CO\n",
    "#excluded FG: -\n",
    "n=mon_dic['CO']\n",
    "monL[n]=('[C-]#[O+]',)\n",
    "exclL[n]=('[CX3H1]=[O]', '[$(*-[NX2-]-[NX2+]#[NX1]),$(*-[NX2]=[NX2+]=[NX1-])]',\n",
    "         '[CX3;!R](=[OX1])[OX2;!R][CX3;!R](=[OX1])', '[CX3;!R](=[OX1])[NX3;!R][CX3;!R](=[OX1])')"
   ]
  },
  {
   "cell_type": "code",
   "execution_count": null,
   "metadata": {
    "id": "Yx4vNrvM3hnX"
   },
   "outputs": [],
   "source": [
    "#definition of fromaldehyde for phenol / melamine resin\n",
    "#objective FG: HCHO\n",
    "#excluded FG: -\n",
    "n=mon_dic['HCHO']\n",
    "monL[n]=('[CX3;H2]=[OX1]',)\n",
    "exclL[n]=('[CX3H1]=[O]', '[$(*-[NX2-]-[NX2+]#[NX1]),$(*-[NX2]=[NX2+]=[NX1-])]',\n",
    "         '[CX3;!R](=[OX1])[OX2;!R][CX3;!R](=[OX1])', '[CX3;!R](=[OX1])[NX3;!R][CX3;!R](=[OX1])')"
   ]
  },
  {
   "cell_type": "code",
   "execution_count": null,
   "metadata": {
    "id": "7bw0O12C3hnX"
   },
   "outputs": [],
   "source": [
    "#definition of polycarboxylic acid monomer include acid chrolide\n",
    "#objective FG: aliphatic prim- and sec-carboxylic acid, aromatic carboxylic acid\n",
    "#excluded FG: alcohol, amine and tert-carboxylic acid\n",
    "n=mon_dic['diCOOH']\n",
    "monL[n]=('[CX4H2][C](=[O])[OH1]', '[CX4H1][C](=[O])[OH1]', '[c][C](=O)[OH1]',\n",
    "        '[CX4H2][C](=[O])[Cl,Br]', '[CX4H1][C](=[O])[Cl,Br]', '[c][C](=O)[Cl,Br]')\n",
    "exclL[n]=('[CX4H2][OH1]', '[CX4H1][OH1]', '[CX4H0][OH1]', '[CX4H0][C](=[O])[OH1]', '[CX4H0][C](=[O])[Cl,Br]'\n",
    "           '[N&X3;H2,H1;!$(N[C,S]=*)]',\n",
    "           '[CX3H1]=[O]', '[$(*-[NX2-]-[NX2+]#[NX1]),$(*-[NX2]=[NX2+]=[NX1-])]',\n",
    "          '[CX3;!R](=[OX1])[OX2;!R][CX3;!R](=[OX1])', '[CX3;!R](=[OX1])[NX3;!R][CX3;!R](=[OX1])')"
   ]
  },
  {
   "cell_type": "code",
   "execution_count": null,
   "metadata": {
    "id": "NK1ptnlB3hnY"
   },
   "outputs": [],
   "source": [
    "#definition of polyol monomer include thiol\n",
    "#objective FG: phenol, aliphatic prim- and sec-alcohol\n",
    "#excluded FG: carboxylic acid, non-cyclic tert-alcohol, sugar, amine\n",
    "n=mon_dic['diol']\n",
    "monL[n]=('[CX4H1][OX2,SX2;H1]', '[CX4H2][OX2,SX2;H1]', '[c][OX2,SX2;H1]', '[CX4;H2,H1,c]([OX2,SX2;H1])[OX2,SX2;H1]') #added 2024/01\n",
    "exclL[n]=('[CX3H0](=[O])[OH1]', '[CX4H0;!R]([C])([C])[O,S;H1]', '[CX4H1;R]([OH1])[CX4H1;R]([OH1])[O;R]',\n",
    "           '[N&X3;H2,H1;!$(N[C,S]=*)]',\n",
    "           '[CX3H1]=[O]', '[$(*-[NX2-]-[NX2+]#[NX1]),$(*-[NX2]=[NX2+]=[NX1-])]',\n",
    "          '[CX3;!R](=[OX1])[OX2;!R][CX3;!R](=[OX1])', '[CX3;!R](=[OX1])[NX3;!R][CX3;!R](=[OX1])')"
   ]
  },
  {
   "cell_type": "code",
   "execution_count": null,
   "metadata": {
    "id": "jdyJFz8w3hnY"
   },
   "outputs": [],
   "source": [
    "#definition of polyamine monomer\n",
    "#objective FG: prim- and sec-amine (aliphatic and aromatic)\n",
    "#excluded FG: carboxylic acd, alcohol, amide\n",
    "n=mon_dic['diamin']\n",
    "monL[n]=('[C][N&X3;H2;!$(N[C,S]=*)]', '[c][N&X3;H2;!$(N[C,S]=*)]', '[C,c][N&X3;H1;!$(N[C,S]=*)][C,c]',\n",
    "        '[N&X3;H2;!$(N[C,S]=*)][C][N&X3;H2;!$(N[C,S]=*)]') #added 2024/01\n",
    "exclL[n]=('[CX3H0](=[O])[OH1]', '[CX4H0]([C])([C])[OH1]', '[CX4H1;R]([OH1])[CX4H1;R]([OH1])[O;R]',\n",
    "          '[C][OX2H]', '[C][SX2H]',\n",
    "          '[CX3H1]=[O]', '[$(*-[NX2-]-[NX2+]#[NX1]),$(*-[NX2]=[NX2+]=[NX1-])]',\n",
    "          '[CX3;!R](=[OX1])[OX2;!R][CX3;!R](=[OX1])', '[CX3;!R](=[OX1])[NX3;!R][CX3;!R](=[OX1])')"
   ]
  },
  {
   "cell_type": "code",
   "execution_count": null,
   "metadata": {
    "id": "E53Vx_-v3hnY"
   },
   "outputs": [],
   "source": [
    "#definition of polyisocyanate monomer\n",
    "#objective FG: aliphatic and aromatic isocyanate and thioisosyanate\n",
    "#excluded FG: -\n",
    "n=mon_dic['diNCO']\n",
    "monL[n]=('[C]-[NX2]=[CX2]=[O,S;X1]', '[c]-[NX2]=[CX2]=[O,S;X1]')\n",
    "exclL[n]=('[CX3H1]=[O]', '[$(*-[NX2-]-[NX2+]#[NX1]),$(*-[NX2]=[NX2+]=[NX1-])]',\n",
    "         '[CX3;!R](=[OX1])[OX2;!R][CX3;!R](=[OX1])', '[CX3;!R](=[OX1])[NX3;!R][CX3;!R](=[OX1])')"
   ]
  },
  {
   "cell_type": "code",
   "execution_count": null,
   "metadata": {
    "id": "0qzXWNYk3hnY"
   },
   "outputs": [],
   "source": [
    "#definition of poly (cyclic carboxilic acid anhydride) monomer\n",
    "#objective FG: poly (cyclic carboxilic acid anhydride)\n",
    "#excluded FG: oxazoline\n",
    "n=mon_dic['dicAnhyd']\n",
    "monL[n]=('[C;R][C;R;X3](=[OX1])[OX2;R][C;R;X3](=[OX1])[C;R]', '[c][CX3,c;R](=[OX1])[OX2,o;R][CX3,c;R](=[OX1])[c]')\n",
    "exclL[n]=('[NX2;R][C;R;X3](=[O])[O;R][C;R;X3](=[O])[C;R]', '[NX3;R][C;R;X3](=[O])[O;R][C;R;X3](=[O])[C;R]',\n",
    "          '[CX3H1]=[O]', '[$(*-[NX2-]-[NX2+]#[NX1]),$(*-[NX2]=[NX2+]=[NX1-])]',\n",
    "         '[CX3;!R](=[OX1])[OX2;!R][CX3;!R](=[OX1])', '[CX3;!R](=[OX1])[NX3;!R][CX3;!R](=[OX1])')"
   ]
  },
  {
   "cell_type": "code",
   "execution_count": null,
   "metadata": {
    "id": "vKGQwEtV3hnZ"
   },
   "outputs": [],
   "source": [
    "#definition of primary polyamine monomer\n",
    "#objective FG: prim-amine (aliphatic and aromatic)\n",
    "#excluded FG: carboxylic acd, alcohol, amide\n",
    "n=mon_dic['pridiamin']\n",
    "monL[n]=('[C][N&X3;H2;!$(N[C,S]=*)]', '[c][N&X3;H2;!$(N[C,S]=*)]')\n",
    "exclL[n]=('[CX3H0](=[O])[OH1]', '[CX3H0](=[O])[NX3]',  '[CX4][OH1]', '[c][OH1]',\n",
    "          '[CX3H1]=[O]', '[$(*-[NX2-]-[NX2+]#[NX1]),$(*-[NX2]=[NX2+]=[NX1-])]',\n",
    "          '[CX3;!R](=[OX1])[OX2;!R][CX3;!R](=[OX1])', '[CX3;!R](=[OX1])[NX3;!R][CX3;!R](=[OX1])')"
   ]
  },
  {
   "cell_type": "code",
   "execution_count": null,
   "metadata": {
    "id": "LlfPoU-A3hnZ"
   },
   "outputs": [],
   "source": [
    "#definition of diArsulfone monomer\n",
    "#objective FG: p-halogenated aryl sulfone\n",
    "#excluded FG: carbonyl with oxygen (acid, ester etc), amide, alcohol, prim- and sec-amine, nitryl, tert-alkyl\n",
    "n=mon_dic['sfonediX']\n",
    "monL[n]=('[c]1[c][c]([F,Cl,Br,I])[c][c][c]1[SX4](=[OX1])(=[OX1])[c]2[c][c][c]([F,Cl,Br,I])[c][c]2', )\n",
    "exclL[n]=('[CX3](=[OX1])[OX2]', '[CX3H0](=[O])[NX3]',  '[CX4][OH1]', '[c][OH1]',\n",
    "          '[CX4][N&X3;H2;!$(N[C,S]=*)]', '[c][N&X3;H2;!$(N[C,S]=*)]', '[NX1]#[CX2]', '[CX4]([C,c])([C,c])[C,c]',\n",
    "          '[CX3H1]=[O]', '[$(*-[NX2-]-[NX2+]#[NX1]),$(*-[NX2]=[NX2+]=[NX1-])]',\n",
    "          '[CX3;!R](=[OX1])[OX2;!R][CX3;!R](=[OX1])', '[CX3;!R](=[OX1])[NX3;!R][CX3;!R](=[OX1])')"
   ]
  },
  {
   "cell_type": "code",
   "execution_count": null,
   "metadata": {
    "id": "GvHFZTes3hnZ"
   },
   "outputs": [],
   "source": [
    "#definition of benzophenone-p-diF monomer\n",
    "#objective FG: p-fuluorinated brnzophenone\n",
    "#excluded FG: carbonyl with oxygen (acid, ester etc), amide, alcohol, prim- and sec-amine, nitryl, tert-alkyl\n",
    "n=mon_dic['BzodiF']\n",
    "monL[n]=('[c]1[c][c]([F])[c][c][c]1[CX3](=[OX1])[c]2[c][c][c]([F])[c][c]2', )\n",
    "exclL[n]=('[CX3](=[OX1])[OX2]', '[CX3H0](=[O])[NX3]',  '[CX4][OH1]', '[c][OH1]',\n",
    "          '[CX4][N&X3;H2;!$(N[C,S]=*)]', '[c][N&X3;H2;!$(N[C,S]=*)]', '[NX1]#[CX2]', '[CX4]([C,c])([C,c])[C,c]',\n",
    "          '[CX3H1]=[O]', '[$(*-[NX2-]-[NX2+]#[NX1]),$(*-[NX2]=[NX2+]=[NX1-])]',\n",
    "          '[CX3;!R](=[OX1])[OX2;!R][CX3;!R](=[OX1])', '[CX3;!R](=[OX1])[NX3;!R][CX3;!R](=[OX1])')"
   ]
  },
  {
   "cell_type": "code",
   "execution_count": null,
   "metadata": {
    "id": "fv7KJoyw3hna"
   },
   "outputs": [],
   "source": [
    "#definition of polyol monomer include thiol for alkaline condensation\n",
    "#objective FG: phenol, aliphatic prim- and sec-alcohol\n",
    "#excluded FG: carbonyl with oxygen (acid, ester etc), non-cyclic tert-alcohol, thiol, sugar, amine, nitryl, epoxide\n",
    "n=mon_dic['diol_b']\n",
    "monL[n]=('[CX4H1][OX2;H1]', '[CX4H2][OX2;H1]', '[c][OX2;H1]')\n",
    "exclL[n]=('[CX3](=[OX1])[OX2]', '[CX4H0;!R]([C])([C])[O,S;H1]', '[CX4H1;R]([OH1])[CX4H1;R]([OH1])[O;R]',\n",
    "          '[CX4H1][SX2;H1]', '[CX4H2][SX2;H1]', '[c][SX2;H1]',\n",
    "          '[N&X3;H2,H1;!$(N[C,S]=*)]', '[CX3H0](=[O])[NX3]', '[NX1]#[CX2]', '[CX4]1[OX2][CX4]1',\n",
    "          '[CX3H1]=[O]', '[$(*-[NX2-]-[NX2+]#[NX1]),$(*-[NX2]=[NX2+]=[NX1-])]',\n",
    "          '[CX3;!R](=[OX1])[OX2;!R][CX3;!R](=[OX1])', '[CX3;!R](=[OX1])[NX3;!R][CX3;!R](=[OX1])')"
   ]
  },
  {
   "cell_type": "code",
   "execution_count": null,
   "metadata": {
    "id": "MYOYXKUM3hna"
   },
   "outputs": [],
   "source": [
    "#definition of acryl monomer\n",
    "#objective FG: (meth)acrylates include F substituted olefin\n",
    "#excluded FG: -\n",
    "n=mon_dic['acryl']\n",
    "monL[n]=('[CX3H2;!R:1]=[CX3H1;!R:2][CX3;!R](=[OX1])[OX2,SX2,NX3:3]',\n",
    "         '[CX3H2;!R:1]=[CX3;!R:2]([CX4;H3])[CX3;!R](=[OX1])[OX2,SX2,NX3:3]',\n",
    "         '[CX3H2;!R:1]=[CX3;!R:2]([F,Cl,Br:4])[CX3;!R](=[OX1])[OX2,SX2,NX3:3]',\n",
    "         '[CX3H2;!R:1]=[CX3;!R:2]([CX4;H2][F,Cl:4])[CX3;!R](=[OX1])[OX2,SX2,NX3:3]',\n",
    "         '[CX3H2;!R:1]=[CX3;!R:2]([CX4;H1]([F,Cl:4])[F,Cl:5])[CX3;!R](=[OX1])[OX2,SX2,NX3:3]',\n",
    "         '[CX3H2;!R:1]=[CX3;!R:2]([CX4;H0]([F])([F])[F])[CX3;!R](=[OX1])[OX2,SX2,NX3:3]',\n",
    "         '[CX3H2;!R:1]=[CX3;!R:2]([CX4;H2][c:4])[CX3;!R](=[OX1])[OX2,SX2,NX3:3]',\n",
    "         '[CX3H2;!R:1]=[CX3;!R:2]([CX4;H1]([CX4;H3])[CX4;H3])[CX3;!R](=[OX1])[OX2,SX2,NX3:3]',\n",
    "         '[CX3H2;!R:1]=[CX3;!R:2]([CX4;H1]([CX4;H3])[CX4;H2:4][CX3;!R](=[OX1])[OX2,SX2,NX3:4])[CX3;!R](=[OX1])[OX2,SX2,NX3:3]',\n",
    "         '[CX3H2;!R:1]=[CX3;!R:2]([CX2]#[NX1])[CX3;!R](=[OX1])[OX2,SX2,NX3:3]',\n",
    "         '[CX3H2;!R:1]=[CX3;!R:2]([NX2]=[CX2]=[OX1])[CX3;!R](=[OX1])[OX2,SX2,NX3:3]',\n",
    "         '[CX3H2;!R:1]=[CX3;!R:2]([SX4](=[OX1])(=[OX1])[OX2:4])[CX3;!R](=[OX1])[OX2,SX2,NX3:3]',\n",
    "         '[CX3H2;!R:1]=[CX3;!R:2]([PX4](=[OX1])(=[OX1])[OX2:4])[CX3;!R](=[OX1])[OX2,SX2,NX3:3]',\n",
    "         '[CX3;H0;!R:1]([F])([F])=[CX3H1;!R:2][CX3;!R](=[OX1])[OX2,SX2,NX3:3]',\n",
    "         '[CX3;H0;!R:1]([F])([F])=[CX3;!R:2]([CX4;H3])[CX3;!R](=[OX1])[OX2,SX2,NX3:3]',\n",
    "         '[CX3;H0;!R:1]([F])([F])=[CX3;!R:2]([F,Cl,Br:4])[CX3;!R](=[OX1])[OX2,SX2,NX3:3]',\n",
    "         '[CX3;H0;!R:1]([F])([F])=[CX3;!R:2]([CX4;H2][F,Cl:4])[CX3;!R](=[OX1])[OX2,SX2,NX3:3]',\n",
    "         '[CX3;H0;!R:1]([F])([F])=[CX3;!R:2]([CX4;H1]([F,Cl:4])[F,Cl:5])[CX3;!R](=[OX1])[OX2,SX2,NX3:3]',\n",
    "         '[CX3;H0;!R:1]([F])([F])=[CX3;!R:2]([CX4;H0]([F])([F])[F])[CX3;!R](=[OX1])[OX2,SX2,NX3:3]',\n",
    "         '[CX3;H0;!R:1]([F])([F])=[CX3;!R:2]([CX4;H2][c:4])[CX3;!R](=[OX1])[OX2,SX2,NX3:3]',\n",
    "         '[CX3;H0;!R:1]([F])([F])=[CX3;!R:2]([CX4;H1]([CX4;H3])[CX4;H3])[CX3;!R](=[OX1])[OX2,SX2,NX3:3]',\n",
    "         '[CX3;H0;!R:1]([F])([F])=[CX3;!R:2]([CX4;H1]([CX4;H3])[CX4;H2:4][CX3;!R](=[OX1])[OX2,SX2,NX3:4])[CX3;!R](=[OX1])[OX2,SX2,NX3:3]',\n",
    "         '[CX3;H0;!R:1]([F])([F])=[CX3;!R:2]([CX2]#[NX1])[CX3;!R](=[OX1])[OX2,SX2,NX3:3]',\n",
    "         '[CX3;H0;!R:1]([F])([F])=[CX3;!R:2]([NX2]=[CX2]=[OX1])[CX3;!R](=[OX1])[OX2,SX2,NX3:3]',\n",
    "         '[CX3;H0;!R:1]([F])([F])=[CX3;!R:2]([SX4](=[OX1])(=[OX1])[OX2:4])[CX3;!R](=[OX1])[OX2,SX2,NX3:3]',\n",
    "         '[CX3;H0;!R:1]([F])([F])=[CX3;!R:2]([PX4](=[OX1])(=[OX1])[OX2:4])[CX3;!R](=[OX1])[OX2,SX2,NX3:3]',\n",
    "         '[CX3;H1;!R:1]([F])=[CX3H1;!R:2][CX3;!R](=[OX1])[OX2,SX2,NX3:3]',\n",
    "         '[CX3;H1;!R:1]([F])=[CX3;!R:2]([CX4;H3])[CX3;!R](=[OX1])[OX2,SX2,NX3:3]',\n",
    "         '[CX3;H1;!R:1]([F])=[CX3;!R:2]([F,Cl,Br:4])[CX3;!R](=[OX1])[OX2,SX2,NX3:3]',\n",
    "         '[CX3;H1;!R:1]([F])=[CX3;!R:2]([CX4;H2][F,Cl:4])[CX3;!R](=[OX1])[OX2,SX2,NX3:3]',\n",
    "         '[CX3;H1;!R:1]([F])=[CX3;!R:2]([CX4;H1]([F,Cl:4])[F,Cl:5])[CX3;!R](=[OX1])[OX2,SX2,NX3:3]',\n",
    "         '[CX3;H1;!R:1]([F])=[CX3;!R:2]([CX4;H0]([F])([F])[F])[CX3;!R](=[OX1])[OX2,SX2,NX3:3]',\n",
    "         '[CX3;H1;!R:1]([F])=[CX3;!R:2]([CX4;H2][c:4])[CX3;!R](=[OX1])[OX2,SX2,NX3:3]',\n",
    "         '[CX3;H1;!R:1]([F])=[CX3;!R:2]([CX4;H1]([CX4;H3])[CX4;H3])[CX3;!R](=[OX1])[OX2,SX2,NX3:3]',\n",
    "         '[CX3;H1;!R:1]([F])=[CX3;!R:2]([CX4;H1]([CX4;H3])[CX4;H2:4][CX3;!R](=[OX1])[OX2,SX2,NX3:4])[CX3;!R](=[OX1])[OX2,SX2,NX3:3]',\n",
    "         '[CX3;H1;!R:1]([F])=[CX3;!R:2]([CX2]#[NX1])[CX3;!R](=[OX1])[OX2,SX2,NX3:3]',\n",
    "         '[CX3;H1;!R:1]([F])=[CX3;!R:2]([NX2]=[CX2]=[OX1])[CX3;!R](=[OX1])[OX2,SX2,NX3:3]',\n",
    "         '[CX3;H1;!R:1]([F])=[CX3;!R:2]([SX4](=[OX1])(=[OX1])[OX2:4])[CX3;!R](=[OX1])[OX2,SX2,NX3:3]',\n",
    "         '[CX3;H1;!R:1]([F])=[CX3;!R:2]([PX4](=[OX1])(=[OX1])[OX2:4])[CX3;!R](=[OX1])[OX2,SX2,NX3:3]' )\n",
    "exclL[n]=('[CX4]-[I,Br]', '[CX3H1]=[O]', '[$(*-[NX2-]-[NX2+]#[NX1]),$(*-[NX2]=[NX2+]=[NX1-])]',\n",
    "         '[CX3;!R](=[OX1])[OX2;!R][CX3;!R](=[OX1])', '[CX3;!R](=[OX1])[NX3;!R][CX3;!R](=[OX1])',\n",
    "         '[CX4]-[NX2]=[NX2]-[CX4]', '[OX2]-[OX2]', '[OX2H][cX3]:[c]', '[CX3]1(=[OX1])[CX3]=[CX3][CX3](=[OX1])[CX3]=[CX2]1')"
   ]
  },
  {
   "cell_type": "code",
   "execution_count": null,
   "metadata": {
    "id": "mGLfl8Kk3hnb"
   },
   "outputs": [],
   "source": [
    "#definition of beta-electron withdrawing gorup substituted olefin monomer\n",
    "#objective FG: (meth)acryl nitryls, sulfonates, phosphates, isocyanates\n",
    "#excluded FG: -\n",
    "n=mon_dic['bEWole']\n",
    "monL[n]=('[CX3H2;!R:1]=[CX3H1;!R:2][CX2]#[NX1]',\n",
    "         '[CX3H2;!R:1]=[CX3H1;!R:2][NX2]=[CX2]=[OX1]',\n",
    "         '[CX3H2;!R:1]=[CX3H1;!R:2][SX4](=[OX1])(=[OX1])[OX2:3]',\n",
    "         '[CX3H2;!R:1]=[CX3H1;!R:2][PX4](=[OX1])(=[OX1])[OX2:3]',\n",
    "         '[CX3H2;!R:1]=[CX3;!R:2]([CX4;H3])[CX2]#[NX1]',\n",
    "         '[CX3H2;!R:1]=[CX3;!R:2]([CX4;H3])[NX2]=[CX2]=[OX1]',\n",
    "         '[CX3H2;!R:1]=[CX3;!R:2]([CX4;H3])[SX4](=[OX1])(=[OX1])[OX2:3]',\n",
    "         '[CX3H2;!R:1]=[CX3;!R:2]([CX4;H3])[PX4](=[OX1])(=[OX1])[OX2:3]',\n",
    "         '[CX3H2;!R:1]=[CX3;!R:2]([F,Cl,Br:4])[CX2]#[NX1]',\n",
    "         '[CX3H2;!R:1]=[CX3;!R:2]([F,Cl,Br:4])[NX2]=[CX2]=[OX1]',\n",
    "         '[CX3H2;!R:1]=[CX3;!R:2]([F,Cl,Br:4])[SX4](=[OX1])(=[OX1])[OX2:3]',\n",
    "         '[CX3H2;!R:1]=[CX3;!R:2]([F,Cl,Br:4])[PX4](=[OX1])(=[OX1])[OX2:3]',\n",
    "         '[CX3H2;!R:1]=[CX3;!R:2]([CX4;H2][F,Cl:4])[CX2]#[NX1]',\n",
    "         '[CX3H2;!R:1]=[CX3;!R:2]([CX4;H2][F,Cl:4])[NX2]=[CX2]=[OX1]',\n",
    "         '[CX3H2;!R:1]=[CX3;!R:2]([CX4;H2][F,Cl:4])[SX4](=[OX1])(=[OX1])[OX2:3]',\n",
    "         '[CX3H2;!R:1]=[CX3;!R:2]([CX4;H2][F,Cl:4])[PX4](=[OX1])(=[OX1])[OX2:3]',\n",
    "         '[CX3H2;!R:1]=[CX3;!R:2]([CX4;H1]([F,Cl:4])[F,Cl:5])[CX2]#[NX1]',\n",
    "         '[CX3H2;!R:1]=[CX3;!R:2]([CX4;H1]([F,Cl:4])[F,Cl:5])[NX2]=[CX2]=[OX1]',\n",
    "         '[CX3H2;!R:1]=[CX3;!R:2]([CX4;H1]([F,Cl:4])[F,Cl:5])[SX4](=[OX1])(=[OX1])[OX2:3]',\n",
    "         '[CX3H2;!R:1]=[CX3;!R:2]([CX4;H1]([F,Cl:4])[F,Cl:5])[PX4](=[OX1])(=[OX1])[OX2:3]',\n",
    "         '[CX3H2;!R:1]=[CX3;!R:2]([CX4;H0]([F])([F])[F])[CX2]#[NX1]',\n",
    "         '[CX3H2;!R:1]=[CX3;!R:2]([CX4;H0]([F])([F])[F])[NX2]=[CX2]=[OX1]',\n",
    "         '[CX3H2;!R:1]=[CX3;!R:2]([CX4;H0]([F])([F])[F])[SX4](=[OX1])(=[OX1])[OX2:3]',\n",
    "         '[CX3H2;!R:1]=[CX3;!R:2]([CX4;H0]([F])([F])[F])[PX4](=[OX1])(=[OX1])[OX2:3]',\n",
    "         '[CX3H2;!R:1]=[CX3;!R:2]([CX4;H2][c:4])[CX2]#[NX1]',\n",
    "         '[CX3H2;!R:1]=[CX3;!R:2]([CX4;H2][c:4])[NX2]=[CX2]=[OX1]',\n",
    "         '[CX3H2;!R:1]=[CX3;!R:2]([CX4;H2][c:4])[SX4](=[OX1])(=[OX1])[OX2:3]',\n",
    "         '[CX3H2;!R:1]=[CX3;!R:2]([CX4;H2][c:4])[PX4](=[OX1])(=[OX1])[OX2:3]',\n",
    "         '[CX3H2;!R:1]=[CX3;!R:2]([CX4;H1]([CX4;H3])[CX4;H3])[CX2]#[NX1]',\n",
    "         '[CX3H2;!R:1]=[CX3;!R:2]([CX4;H1]([CX4;H3])[CX4;H3])[NX2]=[CX2]=[OX1]',\n",
    "         '[CX3H2;!R:1]=[CX3;!R:2]([CX4;H1]([CX4;H3])[CX4;H3])[SX4](=[OX1])(=[OX1])[OX2:3]',\n",
    "         '[CX3H2;!R:1]=[CX3;!R:2]([CX4;H1]([CX4;H3])[CX4;H3])[PX4](=[OX1])(=[OX1])[OX2:3]',\n",
    "         '[CX3H2;!R:1]=[CX3;!R:2]([CX4;H1]([CX4;H3])[CX4;H2:4][CX3;!R](=[OX1])[OX2,SX2,NX3:4])[CX2]#[NX1]',\n",
    "         '[CX3H2;!R:1]=[CX3;!R:2]([CX4;H1]([CX4;H3])[CX4;H2:4][CX3;!R](=[OX1])[OX2,SX2,NX3:4])[NX2]=[CX2]=[OX1]',\n",
    "         '[CX3H2;!R:1]=[CX3;!R:2]([CX4;H1]([CX4;H3])[CX4;H2:4][CX3;!R](=[OX1])[OX2,SX2,NX3:4])[SX4](=[OX1])(=[OX1])[OX2:3]',\n",
    "         '[CX3H2;!R:1]=[CX3;!R:2]([CX4;H1]([CX4;H3])[CX4;H2:4][CX3;!R](=[OX1])[OX2,SX2,NX3:4])[PX4](=[OX1])(=[OX1])[OX2:3]',\n",
    "         '[CX3H2;!R:1]=[CX3;!R:2]([CX2]#[NX1])[CX2]#[NX1]',\n",
    "         '[CX3H2;!R:1]=[CX3;!R:2]([CX2]#[NX1])[NX2]=[CX2]=[OX1]',\n",
    "         '[CX3H2;!R:1]=[CX3;!R:2]([CX2]#[NX1])[SX4](=[OX1])(=[OX1])[OX2:3]',\n",
    "         '[CX3H2;!R:1]=[CX3;!R:2]([CX2]#[NX1])[PX4](=[OX1])(=[OX1])[OX2:3]',\n",
    "         '[CX3H2;!R:1]=[CX3;!R:2]([NX2]=[CX2]=[OX1])[CX2]#[NX1]',\n",
    "         '[CX3H2;!R:1]=[CX3;!R:2]([NX2]=[CX2]=[OX1])[NX2]=[CX2]=[OX1]',\n",
    "         '[CX3H2;!R:1]=[CX3;!R:2]([NX2]=[CX2]=[OX1])[SX4](=[OX1])(=[OX1])[OX2:3]',\n",
    "         '[CX3H2;!R:1]=[CX3;!R:2]([NX2]=[CX2]=[OX1])[PX4](=[OX1])(=[OX1])[OX2:3]',\n",
    "         '[CX3H2;!R:1]=[CX3;!R:2]([SX4](=[OX1])(=[OX1])[OX2:4])[CX2]#[NX1]',\n",
    "         '[CX3H2;!R:1]=[CX3;!R:2]([SX4](=[OX1])(=[OX1])[OX2:4])[NX2]=[CX2]=[OX1]',\n",
    "         '[CX3H2;!R:1]=[CX3;!R:2]([SX4](=[OX1])(=[OX1])[OX2:4])[SX4](=[OX1])(=[OX1])[OX2:3]',\n",
    "         '[CX3H2;!R:1]=[CX3;!R:2]([SX4](=[OX1])(=[OX1])[OX2:4])[PX4](=[OX1])(=[OX1])[OX2:3]',\n",
    "         '[CX3H2;!R:1]=[CX3;!R:2]([PX4](=[OX1])(=[OX1])[OX2:4])[CX2]#[NX1]',\n",
    "         '[CX3H2;!R:1]=[CX3;!R:2]([PX4](=[OX1])(=[OX1])[OX2:4])[NX2]=[CX2]=[OX1]',\n",
    "         '[CX3H2;!R:1]=[CX3;!R:2]([PX4](=[OX1])(=[OX1])[OX2:4])[SX4](=[OX1])(=[OX1])[OX2:3]',\n",
    "         '[CX3H2;!R:1]=[CX3;!R:2]([PX4](=[OX1])(=[OX1])[OX2:4])[PX4](=[OX1])(=[OX1])[OX2:3]',\n",
    "         '[CX3;H0;!R:1]([F])([F])=[CX3H1;!R:2][CX2]#[NX1]',\n",
    "         '[CX3;H0;!R:1]([F])([F])=[CX3H1;!R:2][NX2]=[CX2]=[OX1]',\n",
    "         '[CX3;H0;!R:1]([F])([F])=[CX3H1;!R:2][SX4](=[OX1])(=[OX1])[OX2:3]',\n",
    "         '[CX3;H0;!R:1]([F])([F])=[CX3H1;!R:2][PX4](=[OX1])(=[OX1])[OX2:3]',\n",
    "         '[CX3;H0;!R:1]([F])([F])=[CX3;!R:2]([CX4;H3])[CX2]#[NX1]',\n",
    "         '[CX3;H0;!R:1]([F])([F])=[CX3;!R:2]([CX4;H3])[NX2]=[CX2]=[OX1]',\n",
    "         '[CX3;H0;!R:1]([F])([F])=[CX3;!R:2]([CX4;H3])[SX4](=[OX1])(=[OX1])[OX2:3]',\n",
    "         '[CX3;H0;!R:1]([F])([F])=[CX3;!R:2]([CX4;H3])[PX4](=[OX1])(=[OX1])[OX2:3]',\n",
    "         '[CX3;H0;!R:1]([F])([F])=[CX3;!R:2]([F,Cl,Br:4])[CX2]#[NX1]',\n",
    "         '[CX3;H0;!R:1]([F])([F])=[CX3;!R:2]([F,Cl,Br:4])[NX2]=[CX2]=[OX1]',\n",
    "         '[CX3;H0;!R:1]([F])([F])=[CX3;!R:2]([F,Cl,Br:4])[SX4](=[OX1])(=[OX1])[OX2:3]',\n",
    "         '[CX3;H0;!R:1]([F])([F])=[CX3;!R:2]([F,Cl,Br:4])[PX4](=[OX1])(=[OX1])[OX2:3]',\n",
    "         '[CX3;H0;!R:1]([F])([F])=[CX3;!R:2]([CX4;H2][F,Cl:4])[CX2]#[NX1]',\n",
    "         '[CX3;H0;!R:1]([F])([F])=[CX3;!R:2]([CX4;H2][F,Cl:4])[NX2]=[CX2]=[OX1]',\n",
    "         '[CX3;H0;!R:1]([F])([F])=[CX3;!R:2]([CX4;H2][F,Cl:4])[SX4](=[OX1])(=[OX1])[OX2:3]',\n",
    "         '[CX3;H0;!R:1]([F])([F])=[CX3;!R:2]([CX4;H2][F,Cl:4])[PX4](=[OX1])(=[OX1])[OX2:3]',\n",
    "         '[CX3;H0;!R:1]([F])([F])=[CX3;!R:2]([CX4;H1]([F,Cl:4])[F,Cl:5])[CX2]#[NX1]',\n",
    "         '[CX3;H0;!R:1]([F])([F])=[CX3;!R:2]([CX4;H1]([F,Cl:4])[F,Cl:5])[NX2]=[CX2]=[OX1]',\n",
    "         '[CX3;H0;!R:1]([F])([F])=[CX3;!R:2]([CX4;H1]([F,Cl:4])[F,Cl:5])[SX4](=[OX1])(=[OX1])[OX2:3]',\n",
    "         '[CX3;H0;!R:1]([F])([F])=[CX3;!R:2]([CX4;H1]([F,Cl:4])[F,Cl:5])[PX4](=[OX1])(=[OX1])[OX2:3]',\n",
    "         '[CX3;H0;!R:1]([F])([F])=[CX3;!R:2]([CX4;H0]([F])([F])[F])[CX2]#[NX1]',\n",
    "         '[CX3;H0;!R:1]([F])([F])=[CX3;!R:2]([CX4;H0]([F])([F])[F])[NX2]=[CX2]=[OX1]',\n",
    "         '[CX3;H0;!R:1]([F])([F])=[CX3;!R:2]([CX4;H0]([F])([F])[F])[SX4](=[OX1])(=[OX1])[OX2:3]',\n",
    "         '[CX3;H0;!R:1]([F])([F])=[CX3;!R:2]([CX4;H0]([F])([F])[F])[PX4](=[OX1])(=[OX1])[OX2:3]',\n",
    "         '[CX3;H0;!R:1]([F])([F])=[CX3;!R:2]([CX4;H2][c:4])[CX2]#[NX1]',\n",
    "         '[CX3;H0;!R:1]([F])([F])=[CX3;!R:2]([CX4;H2][c:4])[NX2]=[CX2]=[OX1]',\n",
    "         '[CX3;H0;!R:1]([F])([F])=[CX3;!R:2]([CX4;H2][c:4])[SX4](=[OX1])(=[OX1])[OX2:3]',\n",
    "         '[CX3;H0;!R:1]([F])([F])=[CX3;!R:2]([CX4;H2][c:4])[PX4](=[OX1])(=[OX1])[OX2:3]',\n",
    "         '[CX3;H0;!R:1]([F])([F])=[CX3;!R:2]([CX4;H1]([CX4;H3])[CX4;H3])[CX2]#[NX1]',\n",
    "         '[CX3;H0;!R:1]([F])([F])=[CX3;!R:2]([CX4;H1]([CX4;H3])[CX4;H3])[NX2]=[CX2]=[OX1]',\n",
    "         '[CX3;H0;!R:1]([F])([F])=[CX3;!R:2]([CX4;H1]([CX4;H3])[CX4;H3])[SX4](=[OX1])(=[OX1])[OX2:3]',\n",
    "         '[CX3;H0;!R:1]([F])([F])=[CX3;!R:2]([CX4;H1]([CX4;H3])[CX4;H3])[PX4](=[OX1])(=[OX1])[OX2:3]',\n",
    "         '[CX3;H0;!R:1]([F])([F])=[CX3;!R:2]([CX4;H1]([CX4;H3])[CX4;H2:4][CX3;!R](=[OX1])[OX2,SX2,NX3:4])[CX2]#[NX1]',\n",
    "         '[CX3;H0;!R:1]([F])([F])=[CX3;!R:2]([CX4;H1]([CX4;H3])[CX4;H2:4][CX3;!R](=[OX1])[OX2,SX2,NX3:4])[NX2]=[CX2]=[OX1]',\n",
    "         '[CX3;H0;!R:1]([F])([F])=[CX3;!R:2]([CX4;H1]([CX4;H3])[CX4;H2:4][CX3;!R](=[OX1])[OX2,SX2,NX3:4])[SX4](=[OX1])(=[OX1])[OX2:3]',\n",
    "         '[CX3;H0;!R:1]([F])([F])=[CX3;!R:2]([CX4;H1]([CX4;H3])[CX4;H2:4][CX3;!R](=[OX1])[OX2,SX2,NX3:4])[PX4](=[OX1])(=[OX1])[OX2:3]',\n",
    "         '[CX3;H0;!R:1]([F])([F])=[CX3;!R:2]([CX2]#[NX1])[CX2]#[NX1]',\n",
    "         '[CX3;H0;!R:1]([F])([F])=[CX3;!R:2]([CX2]#[NX1])[NX2]=[CX2]=[OX1]',\n",
    "         '[CX3;H0;!R:1]([F])([F])=[CX3;!R:2]([CX2]#[NX1])[SX4](=[OX1])(=[OX1])[OX2:3]',\n",
    "         '[CX3;H0;!R:1]([F])([F])=[CX3;!R:2]([CX2]#[NX1])[PX4](=[OX1])(=[OX1])[OX2:3]',\n",
    "         '[CX3;H0;!R:1]([F])([F])=[CX3;!R:2]([NX2]=[CX2]=[OX1])[CX2]#[NX1]',\n",
    "         '[CX3;H0;!R:1]([F])([F])=[CX3;!R:2]([NX2]=[CX2]=[OX1])[NX2]=[CX2]=[OX1]',\n",
    "         '[CX3;H0;!R:1]([F])([F])=[CX3;!R:2]([NX2]=[CX2]=[OX1])[SX4](=[OX1])(=[OX1])[OX2:3]',\n",
    "         '[CX3;H0;!R:1]([F])([F])=[CX3;!R:2]([NX2]=[CX2]=[OX1])[PX4](=[OX1])(=[OX1])[OX2:3]',\n",
    "         '[CX3;H0;!R:1]([F])([F])=[CX3;!R:2]([SX4](=[OX1])(=[OX1])[OX2:4])[CX2]#[NX1]',\n",
    "         '[CX3;H0;!R:1]([F])([F])=[CX3;!R:2]([SX4](=[OX1])(=[OX1])[OX2:4])[NX2]=[CX2]=[OX1]',\n",
    "         '[CX3;H0;!R:1]([F])([F])=[CX3;!R:2]([SX4](=[OX1])(=[OX1])[OX2:4])[SX4](=[OX1])(=[OX1])[OX2:3]',\n",
    "         '[CX3;H0;!R:1]([F])([F])=[CX3;!R:2]([SX4](=[OX1])(=[OX1])[OX2:4])[PX4](=[OX1])(=[OX1])[OX2:3]',\n",
    "         '[CX3;H0;!R:1]([F])([F])=[CX3;!R:2]([PX4](=[OX1])(=[OX1])[OX2:4])[CX2]#[NX1]',\n",
    "         '[CX3;H0;!R:1]([F])([F])=[CX3;!R:2]([PX4](=[OX1])(=[OX1])[OX2:4])[NX2]=[CX2]=[OX1]',\n",
    "         '[CX3;H0;!R:1]([F])([F])=[CX3;!R:2]([PX4](=[OX1])(=[OX1])[OX2:4])[SX4](=[OX1])(=[OX1])[OX2:3]',\n",
    "         '[CX3;H0;!R:1]([F])([F])=[CX3;!R:2]([PX4](=[OX1])(=[OX1])[OX2:4])[PX4](=[OX1])(=[OX1])[OX2:3]',\n",
    "         '[CX3;H1;!R:1]([F])=[CX3H1;!R:2][CX2]#[NX1]',\n",
    "         '[CX3;H1;!R:1]([F])=[CX3H1;!R:2][NX2]=[CX2]=[OX1]',\n",
    "         '[CX3;H1;!R:1]([F])=[CX3H1;!R:2][SX4](=[OX1])(=[OX1])[OX2:3]',\n",
    "         '[CX3;H1;!R:1]([F])=[CX3H1;!R:2][PX4](=[OX1])(=[OX1])[OX2:3]',\n",
    "         '[CX3;H1;!R:1]([F])=[CX3;!R:2]([CX4;H3])[CX2]#[NX1]',\n",
    "         '[CX3;H1;!R:1]([F])=[CX3;!R:2]([CX4;H3])[NX2]=[CX2]=[OX1]',\n",
    "         '[CX3;H1;!R:1]([F])=[CX3;!R:2]([CX4;H3])[SX4](=[OX1])(=[OX1])[OX2:3]',\n",
    "         '[CX3;H1;!R:1]([F])=[CX3;!R:2]([CX4;H3])[PX4](=[OX1])(=[OX1])[OX2:3]',\n",
    "         '[CX3;H1;!R:1]([F])=[CX3;!R:2]([F,Cl,Br:4])[CX2]#[NX1]',\n",
    "         '[CX3;H1;!R:1]([F])=[CX3;!R:2]([F,Cl,Br:4])[NX2]=[CX2]=[OX1]',\n",
    "         '[CX3;H1;!R:1]([F])=[CX3;!R:2]([F,Cl,Br:4])[SX4](=[OX1])(=[OX1])[OX2:3]',\n",
    "         '[CX3;H1;!R:1]([F])=[CX3;!R:2]([F,Cl,Br:4])[PX4](=[OX1])(=[OX1])[OX2:3]',\n",
    "         '[CX3;H1;!R:1]([F])=[CX3;!R:2]([CX4;H2][F,Cl:4])[CX2]#[NX1]',\n",
    "         '[CX3;H1;!R:1]([F])=[CX3;!R:2]([CX4;H2][F,Cl:4])[NX2]=[CX2]=[OX1]',\n",
    "         '[CX3;H1;!R:1]([F])=[CX3;!R:2]([CX4;H2][F,Cl:4])[SX4](=[OX1])(=[OX1])[OX2:3]',\n",
    "         '[CX3;H1;!R:1]([F])=[CX3;!R:2]([CX4;H2][F,Cl:4])[PX4](=[OX1])(=[OX1])[OX2:3]',\n",
    "         '[CX3;H1;!R:1]([F])=[CX3;!R:2]([CX4;H1]([F,Cl:4])[F,Cl:5])[CX2]#[NX1]',\n",
    "         '[CX3;H1;!R:1]([F])=[CX3;!R:2]([CX4;H1]([F,Cl:4])[F,Cl:5])[NX2]=[CX2]=[OX1]',\n",
    "         '[CX3;H1;!R:1]([F])=[CX3;!R:2]([CX4;H1]([F,Cl:4])[F,Cl:5])[SX4](=[OX1])(=[OX1])[OX2:3]',\n",
    "         '[CX3;H1;!R:1]([F])=[CX3;!R:2]([CX4;H1]([F,Cl:4])[F,Cl:5])[PX4](=[OX1])(=[OX1])[OX2:3]',\n",
    "         '[CX3;H1;!R:1]([F])=[CX3;!R:2]([CX4;H0]([F])([F])[F])[CX2]#[NX1]',\n",
    "         '[CX3;H1;!R:1]([F])=[CX3;!R:2]([CX4;H0]([F])([F])[F])[NX2]=[CX2]=[OX1]',\n",
    "         '[CX3;H1;!R:1]([F])=[CX3;!R:2]([CX4;H0]([F])([F])[F])[SX4](=[OX1])(=[OX1])[OX2:3]',\n",
    "         '[CX3;H1;!R:1]([F])=[CX3;!R:2]([CX4;H0]([F])([F])[F])[PX4](=[OX1])(=[OX1])[OX2:3]',\n",
    "         '[CX3;H1;!R:1]([F])=[CX3;!R:2]([CX4;H2][c:4])[CX2]#[NX1]',\n",
    "         '[CX3;H1;!R:1]([F])=[CX3;!R:2]([CX4;H2][c:4])[NX2]=[CX2]=[OX1]',\n",
    "         '[CX3;H1;!R:1]([F])=[CX3;!R:2]([CX4;H2][c:4])[SX4](=[OX1])(=[OX1])[OX2:3]',\n",
    "         '[CX3;H1;!R:1]([F])=[CX3;!R:2]([CX4;H2][c:4])[PX4](=[OX1])(=[OX1])[OX2:3]',\n",
    "         '[CX3;H1;!R:1]([F])=[CX3;!R:2]([CX4;H1]([CX4;H3])[CX4;H3])[CX2]#[NX1]',\n",
    "         '[CX3;H1;!R:1]([F])=[CX3;!R:2]([CX4;H1]([CX4;H3])[CX4;H3])[NX2]=[CX2]=[OX1]',\n",
    "         '[CX3;H1;!R:1]([F])=[CX3;!R:2]([CX4;H1]([CX4;H3])[CX4;H3])[SX4](=[OX1])(=[OX1])[OX2:3]',\n",
    "         '[CX3;H1;!R:1]([F])=[CX3;!R:2]([CX4;H1]([CX4;H3])[CX4;H3])[PX4](=[OX1])(=[OX1])[OX2:3]',\n",
    "         '[CX3;H1;!R:1]([F])=[CX3;!R:2]([CX4;H1]([CX4;H3])[CX4;H2:4][CX3;!R](=[OX1])[OX2,SX2,NX3:4])[CX2]#[NX1]',\n",
    "         '[CX3;H1;!R:1]([F])=[CX3;!R:2]([CX4;H1]([CX4;H3])[CX4;H2:4][CX3;!R](=[OX1])[OX2,SX2,NX3:4])[NX2]=[CX2]=[OX1]',\n",
    "         '[CX3;H1;!R:1]([F])=[CX3;!R:2]([CX4;H1]([CX4;H3])[CX4;H2:4][CX3;!R](=[OX1])[OX2,SX2,NX3:4])[SX4](=[OX1])(=[OX1])[OX2:3]',\n",
    "         '[CX3;H1;!R:1]([F])=[CX3;!R:2]([CX4;H1]([CX4;H3])[CX4;H2:4][CX3;!R](=[OX1])[OX2,SX2,NX3:4])[PX4](=[OX1])(=[OX1])[OX2:3]',\n",
    "         '[CX3;H1;!R:1]([F])=[CX3;!R:2]([CX2]#[NX1])[CX2]#[NX1]',\n",
    "         '[CX3;H1;!R:1]([F])=[CX3;!R:2]([CX2]#[NX1])[NX2]=[CX2]=[OX1]',\n",
    "         '[CX3;H1;!R:1]([F])=[CX3;!R:2]([CX2]#[NX1])[SX4](=[OX1])(=[OX1])[OX2:3]',\n",
    "         '[CX3;H1;!R:1]([F])=[CX3;!R:2]([CX2]#[NX1])[PX4](=[OX1])(=[OX1])[OX2:3]',\n",
    "         '[CX3;H1;!R:1]([F])=[CX3;!R:2]([NX2]=[CX2]=[OX1])[CX2]#[NX1]',\n",
    "         '[CX3;H1;!R:1]([F])=[CX3;!R:2]([NX2]=[CX2]=[OX1])[NX2]=[CX2]=[OX1]',\n",
    "         '[CX3;H1;!R:1]([F])=[CX3;!R:2]([NX2]=[CX2]=[OX1])[SX4](=[OX1])(=[OX1])[OX2:3]',\n",
    "         '[CX3;H1;!R:1]([F])=[CX3;!R:2]([NX2]=[CX2]=[OX1])[PX4](=[OX1])(=[OX1])[OX2:3]',\n",
    "         '[CX3;H1;!R:1]([F])=[CX3;!R:2]([SX4](=[OX1])(=[OX1])[OX2:4])[CX2]#[NX1]',\n",
    "         '[CX3;H1;!R:1]([F])=[CX3;!R:2]([SX4](=[OX1])(=[OX1])[OX2:4])[NX2]=[CX2]=[OX1]',\n",
    "         '[CX3;H1;!R:1]([F])=[CX3;!R:2]([SX4](=[OX1])(=[OX1])[OX2:4])[SX4](=[OX1])(=[OX1])[OX2:3]',\n",
    "         '[CX3;H1;!R:1]([F])=[CX3;!R:2]([SX4](=[OX1])(=[OX1])[OX2:4])[PX4](=[OX1])(=[OX1])[OX2:3]',\n",
    "         '[CX3;H1;!R:1]([F])=[CX3;!R:2]([PX4](=[OX1])(=[OX1])[OX2:4])[CX2]#[NX1]',\n",
    "         '[CX3;H1;!R:1]([F])=[CX3;!R:2]([PX4](=[OX1])(=[OX1])[OX2:4])[NX2]=[CX2]=[OX1]',\n",
    "         '[CX3;H1;!R:1]([F])=[CX3;!R:2]([PX4](=[OX1])(=[OX1])[OX2:4])[SX4](=[OX1])(=[OX1])[OX2:3]',\n",
    "         '[CX3;H1;!R:1]([F])=[CX3;!R:2]([PX4](=[OX1])(=[OX1])[OX2:4])[PX4](=[OX1])(=[OX1])[OX2:3]')\n",
    "exclL[n]=('[CX4]-[I,Br]', '[CX3H1]=[O]', '[$(*-[NX2-]-[NX2+]#[NX1]),$(*-[NX2]=[NX2+]=[NX1-])]',\n",
    "         '[CX3;!R](=[OX1])[OX2;!R][CX3;!R](=[OX1])', '[CX3;!R](=[OX1])[NX3;!R][CX3;!R](=[OX1])',\n",
    "         '[CX4]-[NX2]=[NX2]-[CX4]', '[OX2]-[OX2]', '[OX2H][cX3]:[c]', '[CX3]1(=[OX1])[CX3]=[CX3][CX3](=[OX1])[CX3]=[CX2]1')"
   ]
  },
  {
   "cell_type": "code",
   "execution_count": null,
   "metadata": {
    "id": "06iTEd3P3hnc"
   },
   "outputs": [],
   "source": [
    "#definition of styryl monomer\n",
    "#objective FG: open chain terminal olefin neighboring aryl group\n",
    "#excluded FG: -\n",
    "n=mon_dic['styryl']\n",
    "monL[n]=('[CX3H2;!R:1]=[CX3H1;!R:2][c:3]',\n",
    "         '[CX3H2;!R:1]=[CX3;!R:2]([CX4;H3])[c:3]',\n",
    "         '[CX3H2;!R:1]=[CX3;!R:2]([F])[c:3]',\n",
    "         '[CX3H2;!R:1]=[CX3;!R:2]([CX4;H2][F])[c:3]',\n",
    "         '[CX3H2;!R:1]=[CX3;!R:2]([CX4;H1]([F])[F])[c:3]',\n",
    "         '[CX3H2;!R:1]=[CX3;!R:2]([CX4;H0]([F])([F])[F])[c:3]',\n",
    "         '[CX3H2;!R:1]=[CX3;!R:2]([OX2][CX4,SiX4:4])[c:3]',\n",
    "         '[CX3;H0;!R:1]([F])([F])=[CX3H1;!R:2][c:3]',\n",
    "         '[CX3;H0;!R:1]([F])([F])=[CX3;!R:2]([CX4;H3])[c:3]',\n",
    "         '[CX3;H0;!R:1]([F])([F])=[CX3;!R:2]([F])[c:3]',\n",
    "         '[CX3;H0;!R:1]([F])([F])=[CX3;!R:2]([CX4;H2][F])[c:3]',\n",
    "         '[CX3;H0;!R:1]([F])([F])=[CX3;!R:2]([CX4;H1]([F])[F])[c:3]',\n",
    "         '[CX3;H0;!R:1]([F])([F])=[CX3;!R:2]([CX4;H0]([F])([F])[F])[c:3]',\n",
    "         '[CX3;H0;!R:1]([F])([F])=[CX3;!R:2]([OX2][CX4,SiX4:4])[c:3]',\n",
    "         '[CX3;H1;!R:1]([F])=[CX3H1;!R:2][c:3]',\n",
    "         '[CX3;H1;!R:1]([F])=[CX3;!R:2]([CX4;H3])[c:3]',\n",
    "         '[CX3;H1;!R:1]([F])=[CX3;!R:2]([F])[c:3]',\n",
    "         '[CX3;H1;!R:1]([F])=[CX3;!R:2]([CX4;H2][F])[c:3]',\n",
    "         '[CX3;H1;!R:1]([F])=[CX3;!R:2]([CX4;H1]([F])[F])[c:3]',\n",
    "         '[CX3;H1;!R:1]([F])=[CX3;!R:2]([CX4;H0]([F])([F])[F])[c:3]',\n",
    "         '[CX3;H1;!R:1]([F])=[CX3;!R:2]([OX2][CX4,SiX4:4])[c:3]',\n",
    "         '[CX3H2;!R:1]=[CX3H1;!R:2][n:3]',\n",
    "         '[CX3H2;!R:1]=[CX3;!R:2]([CX4;H3])[n:3]',\n",
    "         '[CX3H2;!R:1]=[CX3;!R:2]([F])[n:3]',\n",
    "         '[CX3H2;!R:1]=[CX3;!R:2]([CX4;H2][F])[n:3]',\n",
    "         '[CX3H2;!R:1]=[CX3;!R:2]([CX4;H1]([F])[F])[n:3]',\n",
    "         '[CX3H2;!R:1]=[CX3;!R:2]([CX4;H0]([F])([F])[F])[n:3]',\n",
    "         '[CX3H2;!R:1]=[CX3;!R:2]([OX2][CX4,SiX4:4])[n:3]',\n",
    "         '[CX3;H0;!R:1]([F])([F])=[CX3H1;!R:2][n:3]',\n",
    "         '[CX3;H0;!R:1]([F])([F])=[CX3;!R:2]([CX4;H3])[n:3]',\n",
    "         '[CX3;H0;!R:1]([F])([F])=[CX3;!R:2]([F])[n:3]',\n",
    "         '[CX3;H0;!R:1]([F])([F])=[CX3;!R:2]([CX4;H2][F])[n:3]',\n",
    "         '[CX3;H0;!R:1]([F])([F])=[CX3;!R:2]([CX4;H1]([F])[F])[n:3]',\n",
    "         '[CX3;H0;!R:1]([F])([F])=[CX3;!R:2]([CX4;H0]([F])([F])[F])[n:3]',\n",
    "         '[CX3;H0;!R:1]([F])([F])=[CX3;!R:2]([OX2][CX4,SiX4:4])[n:3]',\n",
    "         '[CX3;H1;!R:1]([F])=[CX3H1;!R:2][n:3]',\n",
    "         '[CX3;H1;!R:1]([F])=[CX3;!R:2]([CX4;H3])[n:3]',\n",
    "         '[CX3;H1;!R:1]([F])=[CX3;!R:2]([F])[n:3]',\n",
    "         '[CX3;H1;!R:1]([F])=[CX3;!R:2]([CX4;H2][F])[n:3]',\n",
    "         '[CX3;H1;!R:1]([F])=[CX3;!R:2]([CX4;H1]([F])[F])[n:3]',\n",
    "         '[CX3;H1;!R:1]([F])=[CX3;!R:2]([CX4;H0]([F])([F])[F])[n:3]',\n",
    "         '[CX3;H1;!R:1]([F])=[CX3;!R:2]([OX2][CX4,SiX4:4])[n:3]',\n",
    "         '[CX3;H1;r5:1]=[CX3;H1;r5:2][c:3]')\n",
    "exclL[n]=('[CX4]-[I,Br]', '[CX3H1]=[O]', '[$(*-[NX2-]-[NX2+]#[NX1]),$(*-[NX2]=[NX2+]=[NX1-])]',\n",
    "         '[CX3;!R](=[OX1])[OX2;!R][CX3;!R](=[OX1])', '[CX3;!R](=[OX1])[NX3;!R][CX3;!R](=[OX1])',\n",
    "         '[CX4]-[NX2]=[NX2]-[CX4]', '[OX2]-[OX2]', '[OX2H][cX3]:[c]', '[CX3]1(=[OX1])[CX3]=[CX3][CX3](=[OX1])[CX3]=[CX2]1')"
   ]
  },
  {
   "cell_type": "code",
   "execution_count": null,
   "metadata": {
    "id": "iePBztwA3hnd"
   },
   "outputs": [],
   "source": [
    "#definition of allyl monomer\n",
    "#objective FG: open chain allylic ehter, ester, amine, silane, aromatics.\n",
    "#excluded FG: -\n",
    "n=mon_dic['allyl']\n",
    "monL[n]=('[CX3H2;!R:1]=[CX3H1;!R:2][CX4H2][OX2,SX2:3]', '[CX3H2;!R:1]=[CX3H1;!R:2][CX4H2][NX3:3]',\n",
    "         '[CX3H2;!R:1]=[CX3H1;!R:2][CX4H2][c:3]', '[CX3H2;!R:1]=[CX3H1;!R:2][CX4H2][n:3]',\n",
    "         '[CX3H2;!R:1]=[CX3H1;!R:2][CX4H2][SiX4]([C,c:3])([C,c:4])[C,c:5]', '[CX3H2;!R:1]=[CX3H1;!R:2][CX4H2][CX2]#[N]')\n",
    "exclL[n]=('[CX4]-[I,Br]', '[CX3H1]=[O]', '[$(*-[NX2-]-[NX2+]#[NX1]),$(*-[NX2]=[NX2+]=[NX1-])]',\n",
    "         '[CX3;!R](=[OX1])[OX2;!R][CX3;!R](=[OX1])', '[CX3;!R](=[OX1])[NX3;!R][CX3;!R](=[OX1])',\n",
    "         '[CX4]-[NX2]=[NX2]-[CX4]', '[OX2]-[OX2]', '[OX2H][cX3]:[c]', '[CX3]1(=[OX1])[CX3]=[CX3][CX3](=[OX1])[CX3]=[CX2]1')"
   ]
  },
  {
   "cell_type": "code",
   "execution_count": null,
   "metadata": {
    "id": "ZZBkpW804wvF"
   },
   "outputs": [],
   "source": [
    "#definition of halogenated olefin\n",
    "#objective FG: open chain F, Cl substituted hydrocarbon.\n",
    "#excluded FG: -\n",
    "n=mon_dic['haloCH']\n",
    "monL[n]=('[CX3;H2;!R:1]=[CX3;H1;!R:2][F,Cl:3]', '[CX3;H2;!R:1]=[CX3;H0;!R:2]([F,Cl;3])[F,Cl:4]',\n",
    "         '[CX3;H2;!R:1]=[CX3;H0;!R:2]([F,Cl;3])[CX4:4]', '[CX3;H2;!R:1]=[CX3;H1;!R:2][CX4:3]([F,Cl:4])[F,Cl:5]',\n",
    "         '[F,Cl:4][CX3;H1;!R:1]=[CX3;H1;!R:2][F,Cl:3]', '[F,Cl:5][CX3;H1;!R:1]=[CX3;H0;!R:2]([F,Cl;3])[F,Cl:4]',\n",
    "         '[F,Cl:5][CX3;H1;!R:1]=[CX3;H0;!R:2]([F,Cl;3])[CX4:4]',\n",
    "         '[F,Cl:4][CX3;H0;!R:1]([F,Cl:5])=[CX3;H1;!R:2][F,Cl:3]', '[F,Cl:5][CX3;H0;!R:1]([F,Cl:6])=[CX3;H0;!R:2]([F,Cl;3])[F,Cl:4]',\n",
    "         '[F,Cl:5][CX3;H0;!R:1]([F,Cl:6])=[CX3;H0;!R:2]([F,Cl;3])[CX4:4]')\n",
    "exclL[n]=('[A+1]', '[A+2]', '[A+3]', '[A+4]', '[a+1]', '[a+2]', '[a+3]', '[a+4]',\n",
    "          '[A-1]', '[A-2]', '[A-3]', '[A-4]', '[a-1]', '[a-2]', '[a-3]', '[a-4]',\n",
    "          '[CX3]=[CX3]-[CX3]=[CX3]', '[CX2]#[CX2]',\n",
    "          '[Li,Na,K,Rb,Cs]', '[Be,Mg,Ca,Sr,Ba]', '[Zn,Cd,Hg]',\n",
    "          '[B,b]', '[c]', '[N,n]', '[O,o]', '[Al]', '[P,p]', '[S,s]',\n",
    "          '[Ga]', '[Ge]', '[As,as]', '[Se,se]',\n",
    "          '[In]', '[Sn,sn]', '[Sb,sb]', '[Te,te]', '[Tl]', '[Pb,pb]', '[Bi]',\n",
    "          '[Br,I]', '[si]', '[Si][F,Cl]', '[Si;H4,H3,H2,H1]')"
   ]
  },
  {
   "cell_type": "code",
   "execution_count": null,
   "metadata": {
    "id": "bP922F6t3hne"
   },
   "outputs": [],
   "source": [
    "#definition of vinyl ester and amide\n",
    "#objective FG: open chain vinyl ether include F substituted olefin\n",
    "#excluded FG: -\n",
    "n=mon_dic['vinylester']\n",
    "monL[n]=('[CX3H2:1]=[CX3H1:2][OX2][CX3:3](=[OX1])', '[CX3H1:1]([F])=[CX3H1:2][OX2][CX3:3](=[OX1])', '[CX3H0:1]([F])([F])=[CX3H1:2][OX2][CX3:3](=[OX1])',\n",
    "         '[CX3H2:1]=[CX3H1:2][NX3:3][CX3:4](=[OX1])', '[CX3H1:1]([F])=[CX3H1:2][NX3:3][CX3:4](=[OX1])',\n",
    "         '[CX3H0:1]([F])([F])=[CX3H1:2][NX3:3][CX3:4](=[OX1])')\n",
    "exclL[n]=('[CX4]-[I,Br]', '[CX3H1]=[O]', '[$(*-[NX2-]-[NX2+]#[NX1]),$(*-[NX2]=[NX2+]=[NX1-])]',\n",
    "          '[CX3;!R](=[OX1])[OX2;!R][CX3;!R](=[OX1])', '[CX3;!R](=[OX1])[NX3;!R][CX3;!R](=[OX1])',\n",
    "         '[CX4]-[NX2]=[NX2]-[CX4]', '[OX2]-[OX2]', '[OX2H][cX3]:[c]', '[CX3]1(=[OX1])[CX3]=[CX3][CX3](=[OX1])[CX3]=[CX2]1')"
   ]
  },
  {
   "cell_type": "code",
   "execution_count": null,
   "metadata": {
    "id": "L4cRdxvs3hnf"
   },
   "outputs": [],
   "source": [
    "#definition of maleimide deribatives\n",
    "#https://doi.org/10.1295/kobunshi.14.217\n",
    "#objective FG: maleimide derivatives\n",
    "#excluded FG: -\n",
    "n=mon_dic['malei']\n",
    "monL[n]=('[CX3H1;R:1]1=[CX3H1;R:2][CX3;R](=[OX1])[NX3:3][CX3;R]1(=[OX1])', '[CX3H1;R:1]1([F])=[CX3H1;R:2]([F])[CX3;R](=[OX1])[NX3:3][CX3;R]1(=[OX1])')\n",
    "exclL[n]=('[CX4]-[I,Br]', '[CX3H1]=[O]', '[$(*-[NX2-]-[NX2+]#[NX1]),$(*-[NX2]=[NX2+]=[NX1-])]',\n",
    "          '[CX3;!R](=[OX1])[OX2;!R][CX3;!R](=[OX1])', '[CX3;!R](=[OX1])[NX3;!R][CX3;!R](=[OX1])')"
   ]
  },
  {
   "cell_type": "code",
   "execution_count": null,
   "metadata": {
    "id": "lxC0qMWb3hnd"
   },
   "outputs": [],
   "source": [
    "#definition of diene monomer\n",
    "#objective FG: open chain conjugated olefine, RECONFIRMATION REQUIRED\n",
    "#excluded FG: -\n",
    "n=mon_dic['conjdiene']\n",
    "monL[n]= ('[CX3;H2:1]=[CX3;!R:2]-[CX3;!R:3]=[CX3;H2:4]', '[CX3:1]([F])([F])=[CX3!R:2]-[CX3;!R:3]=[CX3H2:4]',\n",
    "          '[CX3;H1:1]([F])=[CX3;!R:2]-[CX3;!R:3]=[CX3;H2:4]', '[CX3;H0:1]([F])([F])=[CX3!R:2]-[CX3;!R:3]=[CX3;H1:4]([F])',\n",
    "          '[CX3;H1:1]([F])=[CX3;!R:2]-[CX3;!R:3]=[CX3;H1:4]([F])', '[CX3;H0:1]([F])([F])=[CX3;!R:2]-[CX3;!R:3]=[CX3;H0:4]([F])([F])')\n",
    "exclL[n]=('[CX3]=[CX3](-[CX3;!R]=[CX3;!R])=[CX3]' , '[CX3]=[CX3]-[CX3]=[CX3]-[CX3]=[CX3]', \n",
    "          '[CX4]-[I,Br]', '[CX3H1]=[O]', '[$(*-[NX2-]-[NX2+]#[NX1]),$(*-[NX2]=[NX2+]=[NX1-])]',\n",
    "         '[CX3;!R](=[OX1])[OX2;!R][CX3;!R](=[OX1])', '[CX3;!R](=[OX1])[NX3;!R][CX3;!R](=[OX1])',\n",
    "         '[CX4]-[NX2]=[NX2]-[CX4]', '[OX2]-[OX2]', '[OX2H][cX3]:[c]', '[CX3]1(=[OX1])[CX3]=[CX3][CX3](=[OX1])[CX3]=[CX2]1')"
   ]
  },
  {
   "cell_type": "code",
   "execution_count": null,
   "metadata": {
    "id": "-ypYyNBZ3hne"
   },
   "outputs": [],
   "source": [
    "#definition of vinyl ether\n",
    "#objective FG: open chain terminal olefin include acrylate, Fsubstituted olefin\n",
    "#dintinction from vinyl ester\n",
    "#excluded FG: basic FG such as amine\n",
    "n=mon_dic['vinylether']\n",
    "monL[n]=('[CX3H2:1]=[CX3:2][OX2][CX4:3]', '[CX3H2:1]=[CX3:2][OX2;!$(O*=O)][CX3:3]', '[CX3H2:1]=[CX3:2][OX2][c:3]',\n",
    "         '[CX3H1:1]([F])=[CX3:2][OX2][CX4:3]', '[CX3H1:1]([F])=[CX3:2][OX2;!$(O*=O)][CX3:3]', '[CX3H1:1]([F])=[CX3:2][OX2][c:3]',\n",
    "         '[CX3H0:1]([F])([F])=[CX3:2][OX2][CX4:3]', '[CX3H0:1]([F])([F])=[CX3:2][OX2;!$(O*=O)][CX3:3]', '[CX3H0:1]([F])([F])=[CX3:2][OX2][c:3]')\n",
    "exclL[n]=('[NX3;H3,H2,H1;!$(NC=O)]', '[n]',\n",
    "          '[CX4;H2,H1][OX2;R][CX4]', '[CX4;H2,H1][SX2;R][CX4]', '[OX2][CX4,c]([C,c])([C,c])[CX4,c]',\n",
    "          '[CX3H1]=[O]', '[$(*-[NX2-]-[NX2+]#[NX1]),$(*-[NX2]=[NX2+]=[NX1-])]',\n",
    "          '[CX3;!R](=[OX1])[OX2;!R][CX3;!R](=[OX1])', '[CX3;!R](=[OX1])[NX3;!R][CX3;!R](=[OX1])')"
   ]
  },
  {
   "cell_type": "code",
   "execution_count": null,
   "metadata": {
    "id": "mik6yIz4qY0u"
   },
   "outputs": [],
   "source": [
    "#definition of aliphatic precursor of tert-cation olefine for cationic polymerization\n",
    "#objective FG: beta-disubstituted aliphatic CH olefine\n",
    "#excluded FG: -\n",
    "n=mon_dic['tertcatCH']\n",
    "monL[n]=('[CX3;H2;!R:1]=[CX3;H0;!R:2]([CX4H3])[CX4H2:3]', '[CX3;H2;!R:1]=[CX3;H0;!R:2]([CX4H3])[CX4H3]')\n",
    "exclL[n]=('[A+1]', '[A+2]', '[A+3]', '[A+4]', '[a+1]', '[a+2]', '[a+3]', '[a+4]',\n",
    "          '[A-1]', '[A-2]', '[A-3]', '[A-4]', '[a-1]', '[a-2]', '[a-3]', '[a-4]',\n",
    "          '[CX3]=[CX3]-[CX3]=[CX3]', '[CX2]#[CX2]',\n",
    "          '[Li,Na,K,Rb,Cs]', '[Be,Mg,Ca,Sr,Ba]', '[Zn,Cd,Hg]',\n",
    "          '[B,b]', '[c]', '[N,n]', '[O,o]', '[Al]', '[P,p]', '[S,s]',\n",
    "          '[Ga]', '[Ge]', '[As,as]', '[Se,se]',\n",
    "          '[In]', '[Sn,sn]', '[Sb,sb]', '[Te,te]', '[Tl]', '[Pb,pb]', '[Bi]',\n",
    "          '[F,Cl,Br,I]', '[si]', '[Si][F,Cl]', '[Si;H4,H3,H2,H1]')"
   ]
  },
  {
   "cell_type": "code",
   "execution_count": null,
   "metadata": {
    "id": "i-NIiHcZ9ZVR"
   },
   "outputs": [],
   "source": [
    "#Futrue works; non classical carbocation\n",
    "#bicyclic cf beta-pinene '[CX3;H2;!R:1]=[CX3;H0;r4,r5,r6:2]([CX4;H2;r4,r5,r6:3])[CX4;H2;r4,r5,r6,R6:4]'"
   ]
  },
  {
   "cell_type": "code",
   "execution_count": null,
   "metadata": {
    "id": "6uo7sd0L3hnf"
   },
   "outputs": [],
   "source": [
    "#definition of cyclic CH olefine for coordination polymerization\n",
    "#objective FG: cyclic CH olefine\n",
    "#excluded FG: -\n",
    "n=mon_dic['cycCH']\n",
    "monL[n]=('[CX3;H1;R:1]=[CX3;H1;R:2]',)\n",
    "exclL[n]=('[A+1]', '[A+2]', '[A+3]', '[A+4]', '[a+1]', '[a+2]', '[a+3]', '[a+4]',\n",
    "          '[A-1]', '[A-2]', '[A-3]', '[A-4]', '[a-1]', '[a-2]', '[a-3]', '[a-4]',\n",
    "          '[CX3]=[CX3]-[CX3]=[CX3]', '[CX2]#[CX2]',\n",
    "          '[Li,Na,K,Rb,Cs]', '[Be,Mg,Ca,Sr,Ba]', '[Zn,Cd,Hg]',\n",
    "          '[B,b]', '[c]', '[N,n]', '[O,o]', '[Al]', '[P,p]', '[S,s]',\n",
    "          '[Ga]', '[Ge]', '[As,as]', '[Se,se]',\n",
    "          '[In]', '[Sn,sn]', '[Sb,sb]', '[Te,te]', '[Tl]', '[Pb,pb]', '[Bi]',\n",
    "          '[Cl,Br,I]', '[si]', '[Si][F,Cl]', '[Si;H4,H3,H2,H1]')"
   ]
  },
  {
   "cell_type": "code",
   "execution_count": null,
   "metadata": {
    "id": "QoS9GaCH3hnf"
   },
   "outputs": [],
   "source": [
    "#definition of aliphatic CH olefine for coordination polymerization\n",
    "#objective FG: open chain liphatic CH olefine\n",
    "#excluded FG: -\n",
    "n=mon_dic['aliphCH']\n",
    "monL[n]=('[CX3;H2;!R:1]=[CX3;H2;!R:2]', '[CX3;H2;!R:1]=[CX3;H1;!R:2]', )\n",
    "exclL[n]=('[A+1]', '[A+2]', '[A+3]', '[A+4]', '[a+1]', '[a+2]', '[a+3]', '[a+4]',\n",
    "          '[A-1]', '[A-2]', '[A-3]', '[A-4]', '[a-1]', '[a-2]', '[a-3]', '[a-4]',\n",
    "          '[CX3]=[CX3]-[CX3]=[CX3]', '[CX2]#[CX2]',\n",
    "          '[Li,Na,K,Rb,Cs]', '[Be,Mg,Ca,Sr,Ba]', '[Zn,Cd,Hg]',\n",
    "          '[B,b]', '[c]', '[N,n]', '[O,o]', '[Al]', '[P,p]', '[S,s]',\n",
    "          '[Ga]', '[Ge]', '[As,as]', '[Se,se]',\n",
    "          '[In]', '[Sn,sn]', '[Sb,sb]', '[Te,te]', '[Tl]', '[Pb,pb]', '[Bi]',\n",
    "          '[Cl,Br,I]', '[si]', '[Si][F,Cl]', '[Si;H4,H3,H2,H1]')"
   ]
  },
  {
   "cell_type": "raw",
   "metadata": {
    "id": "ZoGc4va93hng",
    "vscode": {
     "languageId": "raw"
    }
   },
   "source": [
    "#!!under construction!!\n",
    "#definition of Diels-Aldered maleic bicyclic olefins\n",
    "#objective FG: bicyclic compouds\n",
    "#excluded FG: -\n",
    "n=mon_dic['bicyc']\n",
    "monL[n]=('[CX3H1;R:1]1=[CX3H1;R:2][CX4;R:3][CX4H1;R:4]2[CX3;R](=[OX1])[NX3:5][CX3;R](=[OX1])[CX4H1;R:6]2[CX4;R:7]1',\n",
    "         '[CX3H1;R:1]1([F])=[CX3H1;R:2]([F])[CX4;R:3][CX4H1;R:4]2[CX3;R](=[OX1])[NX3:5][CX3;R](=[OX1])[CX4H1;R:6]2[CX4;R:7]1',\n",
    "         '[CX3H1;R:1]1([F])=[CX3H1;R:2]([F])[CX4;R:3][CX4;R]:42([F])[CX3;R](=[OX1])[NX3:5][CX3;R](=[OX1])[CX4;R:6]2([F])[CX4;R:7]1')\n",
    "exclL[n]=('[CX3H1]=[O]', '[$(*-[NX2-]-[NX2+]#[NX1]),$(*-[NX2]=[NX2+]=[NX1-])]',\n",
    "          '[CX3;!R](=[OX1])[OX2;!R][CX3;!R](=[OX1])', '[CX3;!R](=[OX1])[NX3;!R][CX3;!R](=[OX1])')"
   ]
  },
  {
   "cell_type": "code",
   "execution_count": null,
   "metadata": {
    "id": "bsrpWUNO3hng"
   },
   "outputs": [],
   "source": [
    "#for sequential polymerization of residual FGs\n",
    "monL[200] = ('[CX3]=[CX3]')\n",
    "monL[201] = ('[CX4;R]1[OX2;R][CX4;R]1')\n",
    "monL[202] = ('[CX3](=[O])[OX2H1,F,Cl,Br,I]')\n",
    "monL[203] = ('[C,c][OX2,SX2;H1;!$([O,S]C=*)]')\n",
    "monL[204] = ('[C,c][NX3;H2;!$(N[C,S]=*)]')\n",
    "monL[205] = ('[NX2]=[CX2]=[OX1,SX1]')\n",
    "monL[206] = ('[C,c][CX3,c;R](=[OX1])[OX2,o;R][CX3,c;R](=[OX1])[C,c]')"
   ]
  },
  {
   "cell_type": "markdown",
   "metadata": {
    "id": "g2pfzIYm3hng"
   },
   "source": [
    "export lists, dictionaries and defs as pickle"
   ]
  },
  {
   "cell_type": "code",
   "execution_count": null,
   "metadata": {
    "id": "WXTAm7Qx3hng"
   },
   "outputs": [],
   "source": [
    "with open(\"./rules/mon_vals.json\",\"w\") as f:\n",
    "    json.dump(mon_vals, f)"
   ]
  },
  {
   "cell_type": "code",
   "execution_count": null,
   "metadata": {
    "id": "-YwXLc7u3hng"
   },
   "outputs": [],
   "source": [
    "with open(\"./rules/mon_dic.json\",\"w\") as f:\n",
    "    json.dump(mon_dic, f)"
   ]
  },
  {
   "cell_type": "code",
   "execution_count": null,
   "metadata": {
    "id": "grv6EZGG3hnh"
   },
   "outputs": [],
   "source": [
    "with open(\"./rules/mon_dic_inv.json\",\"w\") as f:\n",
    "    json.dump(mon_dic_inv, f)"
   ]
  },
  {
   "cell_type": "code",
   "execution_count": null,
   "metadata": {
    "id": "K-rsVqtj3hnh"
   },
   "outputs": [],
   "source": [
    "with open(\"./rules/mon_lst.json\",\"w\") as f:\n",
    "    json.dump(monL, f)"
   ]
  },
  {
   "cell_type": "code",
   "execution_count": null,
   "metadata": {
    "id": "hK6R5Bcn3hnh"
   },
   "outputs": [],
   "source": [
    "with open(\"./rules/excl_lst.json\",\"w\") as f:\n",
    "    json.dump(exclL, f)"
   ]
  },
  {
   "cell_type": "markdown",
   "metadata": {
    "id": "RYZ7jkdF3hnh"
   },
   "source": [
    "end"
   ]
  }
 ],
 "metadata": {
  "colab": {
   "provenance": []
  },
  "kernelspec": {
   "display_name": "Python 3 (ipykernel)",
   "language": "python",
   "name": "python3"
  },
  "language_info": {
   "codemirror_mode": {
    "name": "ipython",
    "version": 3
   },
   "file_extension": ".py",
   "mimetype": "text/x-python",
   "name": "python",
   "nbconvert_exporter": "python",
   "pygments_lexer": "ipython3",
   "version": "3.9.21"
  }
 },
 "nbformat": 4,
 "nbformat_minor": 4
}
