{
 "cells": [
  {
   "cell_type": "markdown",
   "metadata": {
    "id": "Nob2ZGmfabef"
   },
   "source": [
    "Copyright (c) 2022 Mitsuru Ohno  \n",
    "Use of this source code is governed by a BSD-3-style  \n",
    "license that can be found in the LICENSE file.  \n",
    "  \n",
    "07/30/2022, M. Ohno  \n",
    "an example script of monomer categolization and polymer generation from a list of small molecule compounds given as SMILES.    "
   ]
  },
  {
   "cell_type": "code",
   "execution_count": null,
   "metadata": {
    "id": "r4qJqWrNabeg"
   },
   "outputs": [],
   "source": [
    "import numpy as np\n",
    "import pandas as pd\n",
    "from smipoly.smip import monc, polg"
   ]
  },
  {
   "cell_type": "code",
   "execution_count": null,
   "metadata": {
    "id": "dsB-c1GZabei"
   },
   "outputs": [],
   "source": [
    "#read source file\n",
    "DF = pd.read_csv(r'202207_smip_monset.csv')\n",
    "DF"
   ]
  },
  {
   "cell_type": "markdown",
   "metadata": {},
   "source": [
    "classify monomers  "
   ]
  },
  {
   "cell_type": "code",
   "execution_count": null,
   "metadata": {
    "scrolled": true
   },
   "outputs": [],
   "source": [
    "DF02 = monc.moncls(df=DF, smiColn='SMILES', dsp_rsl=True)"
   ]
  },
  {
   "cell_type": "code",
   "execution_count": null,
   "metadata": {},
   "outputs": [],
   "source": [
    "DF02"
   ]
  },
  {
   "cell_type": "markdown",
   "metadata": {},
   "source": [
    "generate polymers  "
   ]
  },
  {
   "cell_type": "code",
   "execution_count": null,
   "metadata": {
    "scrolled": true
   },
   "outputs": [],
   "source": [
    "#read source DataFrame\n",
    "DF03 = polg.biplym(df=DF02, targ=['polyether', ], Pmode='a', dsp_rsl=True)"
   ]
  },
  {
   "cell_type": "code",
   "execution_count": null,
   "metadata": {},
   "outputs": [],
   "source": [
    "DF03"
   ]
  },
  {
   "cell_type": "raw",
   "metadata": {},
   "source": [
    "#export the result as .csv\n",
    "fex = input('input the exported file name = ')\n",
    "DF03.to_csv(fex, columns=['mon1', 'mon2', 'polym', 'polymer_class'], index=False)"
   ]
  },
  {
   "cell_type": "code",
   "execution_count": null,
   "metadata": {},
   "outputs": [],
   "source": [
    "#extract linear polymer\n",
    "DF04 = DF03[DF03['polym'].apply(lambda x:x.count('*')==2)]\n",
    "DF04"
   ]
  },
  {
   "cell_type": "code",
   "execution_count": null,
   "metadata": {},
   "outputs": [],
   "source": [
    "#extract unique polymer repeating unit\n",
    "DF05 = DF04.drop_duplicates(subset=['polym'])\n",
    "DF05"
   ]
  },
  {
   "cell_type": "raw",
   "metadata": {},
   "source": [
    "#export the result as .csv\n",
    "fex2 = input('input the exported file name = ')\n",
    "DF05.to_csv(fex2, columns=['mon1', 'mon2', 'polym', 'polymer_class'], index=False)"
   ]
  },
  {
   "cell_type": "code",
   "execution_count": null,
   "metadata": {},
   "outputs": [],
   "source": [
    "import random\n",
    "from rdkit import Chem\n",
    "from rdkit.Chem import Draw"
   ]
  },
  {
   "cell_type": "markdown",
   "metadata": {},
   "source": [
    "an example of generated polymer and polynerization reaction  "
   ]
  },
  {
   "cell_type": "code",
   "execution_count": null,
   "metadata": {},
   "outputs": [],
   "source": [
    "#Draw examples of generated polymer CRU\n",
    "pickupNos = [random.randint(0, 50) for i in range(len(DF03))]\n",
    "examP = [Chem.MolFromSmiles(DF03.iloc[i, 2]) for i in pickupNos]\n",
    "Draw.MolsToGridImage(examP,molsPerRow=4, subImgSize=(200,200))"
   ]
  },
  {
   "cell_type": "code",
   "execution_count": null,
   "metadata": {},
   "outputs": [],
   "source": [
    "#Draw example of generated polymerization reaction\n",
    "pickupNo = int(random.randint(0,len(DF03)))\n",
    "print(pickupNo)\n",
    "m1=Chem.MolFromSmiles(DF03.iloc[pickupNo,0])\n",
    "m2=Chem.MolFromSmiles(DF03.iloc[pickupNo,1])\n",
    "p=Chem.MolFromSmiles(DF03.iloc[pickupNo,2])\n",
    "if DF03.iloc[pickupNo,1] != '':\n",
    "    L = [m1, m2, p]\n",
    "else:\n",
    "    m2 = Chem.MolFromSmiles('') #None\n",
    "    L = [m1, m2, p]\n",
    "Draw.MolsToGridImage(L,molsPerRow=3, subImgSize=(300,300))"
   ]
  },
  {
   "cell_type": "code",
   "execution_count": null,
   "metadata": {},
   "outputs": [],
   "source": [
    "#end"
   ]
  },
  {
   "cell_type": "code",
   "execution_count": null,
   "metadata": {},
   "outputs": [],
   "source": []
  }
 ],
 "metadata": {
  "colab": {
   "name": "MonomerClassifier.ipynb",
   "provenance": []
  },
  "kernelspec": {
   "display_name": "Python 3 (ipykernel)",
   "language": "python",
   "name": "python3"
  },
  "language_info": {
   "codemirror_mode": {
    "name": "ipython",
    "version": 3
   },
   "file_extension": ".py",
   "mimetype": "text/x-python",
   "name": "python",
   "nbconvert_exporter": "python",
   "pygments_lexer": "ipython3",
   "version": "3.10.9"
  }
 },
 "nbformat": 4,
 "nbformat_minor": 4
}
